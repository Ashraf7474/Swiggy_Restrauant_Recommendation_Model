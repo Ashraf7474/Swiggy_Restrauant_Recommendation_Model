{
 "cells": [
  {
   "cell_type": "code",
   "execution_count": 1,
   "id": "0f0a7768",
   "metadata": {},
   "outputs": [],
   "source": [
    "import matplotlib.pyplot as plt\n",
    "import pandas as pd\n",
    "import numpy as np\n",
    "\n",
    "import matplotlib.pyplot as plt\n",
    "\n",
    "from sklearn import datasets, linear_model, metrics\n",
    "from sklearn.model_selection import train_test_split\n",
    "from sklearn.preprocessing import OneHotEncoder, StandardScaler\n",
    "from sklearn.linear_model import LinearRegression\n",
    "from sklearn.preprocessing import StandardScaler\n",
    "from sklearn.linear_model import LogisticRegression"
   ]
  },
  {
   "cell_type": "code",
   "execution_count": 2,
   "id": "61498894",
   "metadata": {},
   "outputs": [],
   "source": [
    "df=pd.read_csv(\"Swiggy Final Data.csv\")"
   ]
  },
  {
   "cell_type": "code",
   "execution_count": 3,
   "id": "f8d0b465",
   "metadata": {},
   "outputs": [
    {
     "data": {
      "text/html": [
       "<div>\n",
       "<style scoped>\n",
       "    .dataframe tbody tr th:only-of-type {\n",
       "        vertical-align: middle;\n",
       "    }\n",
       "\n",
       "    .dataframe tbody tr th {\n",
       "        vertical-align: top;\n",
       "    }\n",
       "\n",
       "    .dataframe thead th {\n",
       "        text-align: right;\n",
       "    }\n",
       "</style>\n",
       "<table border=\"1\" class=\"dataframe\">\n",
       "  <thead>\n",
       "    <tr style=\"text-align: right;\">\n",
       "      <th></th>\n",
       "      <th>Restaurant_Name</th>\n",
       "      <th>Cuisine</th>\n",
       "      <th>Location</th>\n",
       "      <th>Unnamed: 3</th>\n",
       "      <th>Rating</th>\n",
       "      <th>Dish_Name</th>\n",
       "      <th>Dish_Price</th>\n",
       "    </tr>\n",
       "  </thead>\n",
       "  <tbody>\n",
       "    <tr>\n",
       "      <th>0</th>\n",
       "      <td>Malabar Bay</td>\n",
       "      <td>Desserts</td>\n",
       "      <td>koramangala</td>\n",
       "      <td>NaN</td>\n",
       "      <td>10000.0</td>\n",
       "      <td>veg julfreizi</td>\n",
       "      <td>180.00</td>\n",
       "    </tr>\n",
       "    <tr>\n",
       "      <th>1</th>\n",
       "      <td>Malabar Bay</td>\n",
       "      <td>Biryani</td>\n",
       "      <td>koramangala</td>\n",
       "      <td>NaN</td>\n",
       "      <td>10000.0</td>\n",
       "      <td>paneer tawa masala</td>\n",
       "      <td>220.00</td>\n",
       "    </tr>\n",
       "    <tr>\n",
       "      <th>2</th>\n",
       "      <td>Malabar Bay</td>\n",
       "      <td>Desserts</td>\n",
       "      <td>koramangala</td>\n",
       "      <td>NaN</td>\n",
       "      <td>10000.0</td>\n",
       "      <td>paneer butter masala</td>\n",
       "      <td>220.00</td>\n",
       "    </tr>\n",
       "    <tr>\n",
       "      <th>3</th>\n",
       "      <td>Malabar Bay</td>\n",
       "      <td>South Indian</td>\n",
       "      <td>koramangala</td>\n",
       "      <td>NaN</td>\n",
       "      <td>10000.0</td>\n",
       "      <td>mur mura bhindi</td>\n",
       "      <td>160.00</td>\n",
       "    </tr>\n",
       "    <tr>\n",
       "      <th>4</th>\n",
       "      <td>Malabar Bay</td>\n",
       "      <td>South Indian</td>\n",
       "      <td>koramangala</td>\n",
       "      <td>NaN</td>\n",
       "      <td>10000.0</td>\n",
       "      <td>malai kofta</td>\n",
       "      <td>230.00</td>\n",
       "    </tr>\n",
       "    <tr>\n",
       "      <th>...</th>\n",
       "      <td>...</td>\n",
       "      <td>...</td>\n",
       "      <td>...</td>\n",
       "      <td>...</td>\n",
       "      <td>...</td>\n",
       "      <td>...</td>\n",
       "      <td>...</td>\n",
       "    </tr>\n",
       "    <tr>\n",
       "      <th>8198</th>\n",
       "      <td>Sweet Chariot</td>\n",
       "      <td>Desserts</td>\n",
       "      <td>malleshwaram</td>\n",
       "      <td>NaN</td>\n",
       "      <td>1000.0</td>\n",
       "      <td>Fresh Cream Mango Glaze Cake</td>\n",
       "      <td>61.90</td>\n",
       "    </tr>\n",
       "    <tr>\n",
       "      <th>8199</th>\n",
       "      <td>Rohan's Kitchen</td>\n",
       "      <td>American</td>\n",
       "      <td>indiranagar</td>\n",
       "      <td>NaN</td>\n",
       "      <td>50.0</td>\n",
       "      <td>Creamy Mushroom  Scrambled Egg With Toast</td>\n",
       "      <td>199.00</td>\n",
       "    </tr>\n",
       "    <tr>\n",
       "      <th>8200</th>\n",
       "      <td>Malabar Bay</td>\n",
       "      <td>Biryani</td>\n",
       "      <td>koramangala</td>\n",
       "      <td>NaN</td>\n",
       "      <td>10000.0</td>\n",
       "      <td>Chilli Cheese Egg Appam</td>\n",
       "      <td>75.00</td>\n",
       "    </tr>\n",
       "    <tr>\n",
       "      <th>8201</th>\n",
       "      <td>Fresh Pressery Cafe</td>\n",
       "      <td>Healt...</td>\n",
       "      <td>koramangala</td>\n",
       "      <td>NaN</td>\n",
       "      <td>10000.0</td>\n",
       "      <td>Chicken</td>\n",
       "      <td>185.41</td>\n",
       "    </tr>\n",
       "    <tr>\n",
       "      <th>8202</th>\n",
       "      <td>Thali's Station</td>\n",
       "      <td>Thalis</td>\n",
       "      <td>layout</td>\n",
       "      <td>NaN</td>\n",
       "      <td>100.0</td>\n",
       "      <td>Aloo Jeera Thali (in 5cp)</td>\n",
       "      <td>189.00</td>\n",
       "    </tr>\n",
       "  </tbody>\n",
       "</table>\n",
       "<p>8203 rows × 7 columns</p>\n",
       "</div>"
      ],
      "text/plain": [
       "          Restaurant_Name        Cuisine      Location  Unnamed: 3   Rating   \n",
       "0             Malabar Bay       Desserts   koramangala         NaN  10000.0  \\\n",
       "1             Malabar Bay        Biryani   koramangala         NaN  10000.0   \n",
       "2             Malabar Bay       Desserts   koramangala         NaN  10000.0   \n",
       "3             Malabar Bay   South Indian   koramangala         NaN  10000.0   \n",
       "4             Malabar Bay   South Indian   koramangala         NaN  10000.0   \n",
       "...                   ...            ...           ...         ...      ...   \n",
       "8198        Sweet Chariot       Desserts  malleshwaram         NaN   1000.0   \n",
       "8199      Rohan's Kitchen       American   indiranagar         NaN     50.0   \n",
       "8200          Malabar Bay        Biryani   koramangala         NaN  10000.0   \n",
       "8201  Fresh Pressery Cafe       Healt...   koramangala         NaN  10000.0   \n",
       "8202      Thali's Station         Thalis        layout         NaN    100.0   \n",
       "\n",
       "                                       Dish_Name  Dish_Price  \n",
       "0                                  veg julfreizi      180.00  \n",
       "1                             paneer tawa masala      220.00  \n",
       "2                           paneer butter masala      220.00  \n",
       "3                                mur mura bhindi      160.00  \n",
       "4                                    malai kofta      230.00  \n",
       "...                                          ...         ...  \n",
       "8198                Fresh Cream Mango Glaze Cake       61.90  \n",
       "8199   Creamy Mushroom  Scrambled Egg With Toast      199.00  \n",
       "8200                     Chilli Cheese Egg Appam       75.00  \n",
       "8201                                     Chicken      185.41  \n",
       "8202                   Aloo Jeera Thali (in 5cp)      189.00  \n",
       "\n",
       "[8203 rows x 7 columns]"
      ]
     },
     "execution_count": 3,
     "metadata": {},
     "output_type": "execute_result"
    }
   ],
   "source": [
    "df"
   ]
  },
  {
   "cell_type": "code",
   "execution_count": 4,
   "id": "2b421ed7",
   "metadata": {},
   "outputs": [],
   "source": [
    "# Drop unwanted Column\n",
    "df.drop(\"Unnamed: 3\",axis=1,inplace=True)"
   ]
  },
  {
   "cell_type": "code",
   "execution_count": 5,
   "id": "13452495",
   "metadata": {},
   "outputs": [],
   "source": [
    "# Drop null values\n",
    "df.dropna(inplace=True)"
   ]
  },
  {
   "cell_type": "code",
   "execution_count": 6,
   "id": "2a66311e",
   "metadata": {},
   "outputs": [
    {
     "data": {
      "text/plain": [
       "<bound method Series.unique of 0        koramangala\n",
       "1        koramangala\n",
       "2        koramangala\n",
       "3        koramangala\n",
       "4        koramangala\n",
       "            ...     \n",
       "8198    malleshwaram\n",
       "8199     indiranagar\n",
       "8200     koramangala\n",
       "8201     koramangala\n",
       "8202          layout\n",
       "Name: Location, Length: 8051, dtype: object>"
      ]
     },
     "execution_count": 6,
     "metadata": {},
     "output_type": "execute_result"
    }
   ],
   "source": [
    "df[\"Location\"].unique\n",
    "df[\"\"]"
   ]
  },
  {
   "cell_type": "code",
   "execution_count": 7,
   "id": "c31160c4",
   "metadata": {
    "scrolled": true
   },
   "outputs": [
    {
     "data": {
      "text/plain": [
       "Restaurant_Name    0\n",
       "Cuisine            0\n",
       "Location           0\n",
       "Rating             0\n",
       "Dish_Name          0\n",
       "Dish_Price         0\n",
       "dtype: int64"
      ]
     },
     "execution_count": 7,
     "metadata": {},
     "output_type": "execute_result"
    }
   ],
   "source": [
    "df.isnull().sum()"
   ]
  },
  {
   "cell_type": "code",
   "execution_count": 8,
   "id": "4146d60a",
   "metadata": {},
   "outputs": [
    {
     "data": {
      "text/plain": [
       "array([216,   5, 177,  86, 408, 178, 285,  44, 263, 371, 264, 228, 176,\n",
       "       121, 337, 179,  47, 280, 272, 148, 398,  69, 128,  65, 421, 170,\n",
       "       113, 273, 451,  67,  11, 175,  68,  64, 167, 412,  75, 317, 158,\n",
       "       289,  32, 333, 242, 209, 157, 321,  54, 181, 391,  92, 329, 281,\n",
       "       304, 120, 444,  62, 107, 387, 383,  12, 189,   1, 174, 191, 365,\n",
       "       125, 325, 438,  91,  74,  94, 369,  59, 103, 423, 118, 265,  89,\n",
       "        48, 162,  84, 257,  95, 326, 406, 341, 247, 348,  60, 260, 287,\n",
       "       277, 417, 448, 196, 163, 439, 454, 122, 459, 457, 241, 366, 146,\n",
       "       425, 248, 274, 299, 292, 460, 455, 401, 452,  71, 159, 254, 262,\n",
       "        49,  78, 119, 208, 276, 199, 306, 355, 418, 226, 433, 311, 249,\n",
       "       135, 335, 319, 166, 381, 361,  17, 288, 294, 397, 131, 232, 284,\n",
       "       330,  37, 282, 338, 404, 315, 290, 410, 437, 204, 279, 240,   3,\n",
       "        87, 183, 238, 340,  22, 434, 133, 346,  58, 354, 220, 385, 155,\n",
       "       328, 295, 353, 307, 357, 251, 153, 243, 405, 430,  38, 332, 252,\n",
       "       149,  50, 215, 275, 108, 250, 237, 424, 214, 231,  66, 164, 347,\n",
       "       253,  85, 184, 139,  30, 190, 363, 435, 309, 269, 324, 378, 364,\n",
       "       316, 298, 235, 151, 180, 258, 389, 445, 296, 138, 234, 443, 368,\n",
       "         7, 124,  20, 132, 114, 322, 156, 225, 431,  46, 411,  93, 399,\n",
       "       379, 224, 169, 255, 384, 318, 415, 201, 126, 207, 150, 358, 186,\n",
       "        57, 106, 130, 413, 300, 123,  42, 203,  97,  27, 375, 115,  96,\n",
       "       426, 372, 161, 256, 343,  55, 104, 392, 377, 395, 270, 229, 136,\n",
       "       271, 376,  29, 314,  61,  73, 293, 334,  41, 194, 402, 223,   8,\n",
       "       268, 360,   4, 101, 102, 278, 211, 416, 359, 382, 140,  35,   2,\n",
       "        79, 261, 172, 109, 380, 112, 134,  24,  98, 165, 213, 344, 137,\n",
       "        36, 403, 310,  40, 373, 193,  19,  16, 441, 419,  56, 388, 219,\n",
       "        10, 187, 142, 367, 218, 171, 239, 168, 195,  80, 420, 192, 259,\n",
       "       414,  43,  15, 145, 331, 202, 212,  39, 342,  26, 230,  53,  13,\n",
       "       362, 297, 390, 323, 143, 447,  76, 246, 374, 313, 427,  34, 117,\n",
       "       428, 400, 205, 144,  81, 407, 429, 210, 449, 267, 222,  45, 227,\n",
       "       312, 446, 291,  52, 152,   9, 339,  51, 345, 386, 283, 394, 236,\n",
       "       370, 217, 327, 432, 198, 453, 266, 458, 116,  33, 286, 100,  99,\n",
       "       349, 206, 200, 188,  70, 245, 352, 305, 303,  28, 450,  83, 173,\n",
       "       422,  31,  21,  63,  90,  18, 233, 351,  72, 436, 442, 350, 336,\n",
       "       160, 147, 308, 182, 356, 301, 197, 409, 111, 141, 440,  25, 244,\n",
       "       456, 105, 127,  88, 154, 221, 393,  82,   0,  14,  77, 396, 302,\n",
       "        23, 185,   6, 129, 110, 320])"
      ]
     },
     "execution_count": 8,
     "metadata": {},
     "output_type": "execute_result"
    }
   ],
   "source": [
    "# Apply label encodeing in each categorycal column\n",
    "from sklearn.preprocessing import LabelEncoder\n",
    "le_Restaurant_Name = LabelEncoder()\n",
    "df['Restaurant_Name'] = le_Restaurant_Name.fit_transform(df['Restaurant_Name'])\n",
    "df[\"Restaurant_Name\"].unique()"
   ]
  },
  {
   "cell_type": "code",
   "execution_count": 9,
   "id": "ee0fe793",
   "metadata": {},
   "outputs": [
    {
     "data": {
      "text/plain": [
       "array([ 19,   9,  57,  15,  75,  73,   7,  21,  95,  17,  37,  70,  29,\n",
       "        84,   6,  86,  23,  33,  82, 102,  72,  87,  56,  61,  79,  91,\n",
       "        46,  12,  54,  55,  85,  62,  89,  26,  81,   5,  99, 101,  28,\n",
       "        48,   0,  13,  96,  88,  24,  31,  71,  34,   3,  14, 105,  97,\n",
       "        92,  65,  52,  11, 103,  40,  59,  74,  80,  45,  64,  47,  67,\n",
       "        63, 104,  35,  36,  43,  16,   1,  32,  78,  60,  30,  39,  44,\n",
       "        50,  98,  27,  77,  41,  38,  10,  93,  25,  49,  58,  68,   8,\n",
       "       100,  76,  20,  18,  69,  83,  53,  22,  66,   4,  94,  42,  51,\n",
       "        90,   2])"
      ]
     },
     "execution_count": 9,
     "metadata": {},
     "output_type": "execute_result"
    }
   ],
   "source": [
    "# Apply label encodeing in each categorycal column\n",
    "le_Cuisine = LabelEncoder()\n",
    "df['Cuisine'] = le_Cuisine.fit_transform(df['Cuisine'])\n",
    "df[\"Cuisine\"].unique()"
   ]
  },
  {
   "cell_type": "code",
   "execution_count": 10,
   "id": "964c0a63",
   "metadata": {},
   "outputs": [
    {
     "data": {
      "text/plain": [
       "array([18, 30, 25, 13, 10, 29, 37,  8, 35, 16,  9, 14, 20, 24, 27, 15,  1,\n",
       "        2, 38, 28, 32,  7, 17, 12,  4, 19, 11, 33, 23, 36, 26,  0,  6, 22,\n",
       "       31, 21, 39,  5,  3, 34])"
      ]
     },
     "execution_count": 10,
     "metadata": {},
     "output_type": "execute_result"
    }
   ],
   "source": [
    "# Apply label encodeing in each categorycal column\n",
    "le_Location = LabelEncoder()\n",
    "df['Location'] = le_Location.fit_transform(df['Location'])\n",
    "df[\"Location\"].unique()"
   ]
  },
  {
   "cell_type": "code",
   "execution_count": 11,
   "id": "983d8245",
   "metadata": {},
   "outputs": [
    {
     "data": {
      "text/plain": [
       "array([6427, 6426, 6425, ...,    2,    1,    0])"
      ]
     },
     "execution_count": 11,
     "metadata": {},
     "output_type": "execute_result"
    }
   ],
   "source": [
    "# Apply label encodeing in each categorycal column\n",
    "le_Dish_Name = LabelEncoder()\n",
    "df['Dish_Name'] = le_Dish_Name.fit_transform(df['Dish_Name'])\n",
    "df[\"Dish_Name\"].unique()"
   ]
  },
  {
   "cell_type": "code",
   "execution_count": 12,
   "id": "84fbd542",
   "metadata": {},
   "outputs": [],
   "source": [
    "X = df.drop([\"Dish_Price\",'Location'], axis=1)\n",
    "y = df[[\"Dish_Price\",\"Location\"]]"
   ]
  },
  {
   "cell_type": "code",
   "execution_count": 13,
   "id": "7d486fb7",
   "metadata": {},
   "outputs": [
    {
     "data": {
      "text/html": [
       "<style>#sk-container-id-1 {color: black;background-color: white;}#sk-container-id-1 pre{padding: 0;}#sk-container-id-1 div.sk-toggleable {background-color: white;}#sk-container-id-1 label.sk-toggleable__label {cursor: pointer;display: block;width: 100%;margin-bottom: 0;padding: 0.3em;box-sizing: border-box;text-align: center;}#sk-container-id-1 label.sk-toggleable__label-arrow:before {content: \"▸\";float: left;margin-right: 0.25em;color: #696969;}#sk-container-id-1 label.sk-toggleable__label-arrow:hover:before {color: black;}#sk-container-id-1 div.sk-estimator:hover label.sk-toggleable__label-arrow:before {color: black;}#sk-container-id-1 div.sk-toggleable__content {max-height: 0;max-width: 0;overflow: hidden;text-align: left;background-color: #f0f8ff;}#sk-container-id-1 div.sk-toggleable__content pre {margin: 0.2em;color: black;border-radius: 0.25em;background-color: #f0f8ff;}#sk-container-id-1 input.sk-toggleable__control:checked~div.sk-toggleable__content {max-height: 200px;max-width: 100%;overflow: auto;}#sk-container-id-1 input.sk-toggleable__control:checked~label.sk-toggleable__label-arrow:before {content: \"▾\";}#sk-container-id-1 div.sk-estimator input.sk-toggleable__control:checked~label.sk-toggleable__label {background-color: #d4ebff;}#sk-container-id-1 div.sk-label input.sk-toggleable__control:checked~label.sk-toggleable__label {background-color: #d4ebff;}#sk-container-id-1 input.sk-hidden--visually {border: 0;clip: rect(1px 1px 1px 1px);clip: rect(1px, 1px, 1px, 1px);height: 1px;margin: -1px;overflow: hidden;padding: 0;position: absolute;width: 1px;}#sk-container-id-1 div.sk-estimator {font-family: monospace;background-color: #f0f8ff;border: 1px dotted black;border-radius: 0.25em;box-sizing: border-box;margin-bottom: 0.5em;}#sk-container-id-1 div.sk-estimator:hover {background-color: #d4ebff;}#sk-container-id-1 div.sk-parallel-item::after {content: \"\";width: 100%;border-bottom: 1px solid gray;flex-grow: 1;}#sk-container-id-1 div.sk-label:hover label.sk-toggleable__label {background-color: #d4ebff;}#sk-container-id-1 div.sk-serial::before {content: \"\";position: absolute;border-left: 1px solid gray;box-sizing: border-box;top: 0;bottom: 0;left: 50%;z-index: 0;}#sk-container-id-1 div.sk-serial {display: flex;flex-direction: column;align-items: center;background-color: white;padding-right: 0.2em;padding-left: 0.2em;position: relative;}#sk-container-id-1 div.sk-item {position: relative;z-index: 1;}#sk-container-id-1 div.sk-parallel {display: flex;align-items: stretch;justify-content: center;background-color: white;position: relative;}#sk-container-id-1 div.sk-item::before, #sk-container-id-1 div.sk-parallel-item::before {content: \"\";position: absolute;border-left: 1px solid gray;box-sizing: border-box;top: 0;bottom: 0;left: 50%;z-index: -1;}#sk-container-id-1 div.sk-parallel-item {display: flex;flex-direction: column;z-index: 1;position: relative;background-color: white;}#sk-container-id-1 div.sk-parallel-item:first-child::after {align-self: flex-end;width: 50%;}#sk-container-id-1 div.sk-parallel-item:last-child::after {align-self: flex-start;width: 50%;}#sk-container-id-1 div.sk-parallel-item:only-child::after {width: 0;}#sk-container-id-1 div.sk-dashed-wrapped {border: 1px dashed gray;margin: 0 0.4em 0.5em 0.4em;box-sizing: border-box;padding-bottom: 0.4em;background-color: white;}#sk-container-id-1 div.sk-label label {font-family: monospace;font-weight: bold;display: inline-block;line-height: 1.2em;}#sk-container-id-1 div.sk-label-container {text-align: center;}#sk-container-id-1 div.sk-container {/* jupyter's `normalize.less` sets `[hidden] { display: none; }` but bootstrap.min.css set `[hidden] { display: none !important; }` so we also need the `!important` here to be able to override the default hidden behavior on the sphinx rendered scikit-learn.org. See: https://github.com/scikit-learn/scikit-learn/issues/21755 */display: inline-block !important;position: relative;}#sk-container-id-1 div.sk-text-repr-fallback {display: none;}</style><div id=\"sk-container-id-1\" class=\"sk-top-container\"><div class=\"sk-text-repr-fallback\"><pre>LinearRegression()</pre><b>In a Jupyter environment, please rerun this cell to show the HTML representation or trust the notebook. <br />On GitHub, the HTML representation is unable to render, please try loading this page with nbviewer.org.</b></div><div class=\"sk-container\" hidden><div class=\"sk-item\"><div class=\"sk-estimator sk-toggleable\"><input class=\"sk-toggleable__control sk-hidden--visually\" id=\"sk-estimator-id-1\" type=\"checkbox\" checked><label for=\"sk-estimator-id-1\" class=\"sk-toggleable__label sk-toggleable__label-arrow\">LinearRegression</label><div class=\"sk-toggleable__content\"><pre>LinearRegression()</pre></div></div></div></div></div>"
      ],
      "text/plain": [
       "LinearRegression()"
      ]
     },
     "execution_count": 13,
     "metadata": {},
     "output_type": "execute_result"
    }
   ],
   "source": [
    "from sklearn.linear_model import LinearRegression\n",
    "linear_reg = LinearRegression()\n",
    "linear_reg.fit(X, y.values)"
   ]
  },
  {
   "cell_type": "code",
   "execution_count": 14,
   "id": "2e67d9ba",
   "metadata": {},
   "outputs": [],
   "source": [
    "y_pred = linear_reg.predict(X)"
   ]
  },
  {
   "cell_type": "code",
   "execution_count": 15,
   "id": "f10c2ca4",
   "metadata": {},
   "outputs": [],
   "source": [
    "from sklearn.metrics import mean_squared_error, mean_absolute_error\n",
    "import numpy as np\n",
    "error = np.sqrt(mean_squared_error(y, y_pred))"
   ]
  },
  {
   "cell_type": "code",
   "execution_count": 16,
   "id": "c0d0175d",
   "metadata": {},
   "outputs": [
    {
     "data": {
      "text/plain": [
       "114.38761164894798"
      ]
     },
     "execution_count": 16,
     "metadata": {},
     "output_type": "execute_result"
    }
   ],
   "source": [
    "error"
   ]
  },
  {
   "cell_type": "code",
   "execution_count": 17,
   "id": "517041c3",
   "metadata": {},
   "outputs": [
    {
     "data": {
      "text/html": [
       "<style>#sk-container-id-2 {color: black;background-color: white;}#sk-container-id-2 pre{padding: 0;}#sk-container-id-2 div.sk-toggleable {background-color: white;}#sk-container-id-2 label.sk-toggleable__label {cursor: pointer;display: block;width: 100%;margin-bottom: 0;padding: 0.3em;box-sizing: border-box;text-align: center;}#sk-container-id-2 label.sk-toggleable__label-arrow:before {content: \"▸\";float: left;margin-right: 0.25em;color: #696969;}#sk-container-id-2 label.sk-toggleable__label-arrow:hover:before {color: black;}#sk-container-id-2 div.sk-estimator:hover label.sk-toggleable__label-arrow:before {color: black;}#sk-container-id-2 div.sk-toggleable__content {max-height: 0;max-width: 0;overflow: hidden;text-align: left;background-color: #f0f8ff;}#sk-container-id-2 div.sk-toggleable__content pre {margin: 0.2em;color: black;border-radius: 0.25em;background-color: #f0f8ff;}#sk-container-id-2 input.sk-toggleable__control:checked~div.sk-toggleable__content {max-height: 200px;max-width: 100%;overflow: auto;}#sk-container-id-2 input.sk-toggleable__control:checked~label.sk-toggleable__label-arrow:before {content: \"▾\";}#sk-container-id-2 div.sk-estimator input.sk-toggleable__control:checked~label.sk-toggleable__label {background-color: #d4ebff;}#sk-container-id-2 div.sk-label input.sk-toggleable__control:checked~label.sk-toggleable__label {background-color: #d4ebff;}#sk-container-id-2 input.sk-hidden--visually {border: 0;clip: rect(1px 1px 1px 1px);clip: rect(1px, 1px, 1px, 1px);height: 1px;margin: -1px;overflow: hidden;padding: 0;position: absolute;width: 1px;}#sk-container-id-2 div.sk-estimator {font-family: monospace;background-color: #f0f8ff;border: 1px dotted black;border-radius: 0.25em;box-sizing: border-box;margin-bottom: 0.5em;}#sk-container-id-2 div.sk-estimator:hover {background-color: #d4ebff;}#sk-container-id-2 div.sk-parallel-item::after {content: \"\";width: 100%;border-bottom: 1px solid gray;flex-grow: 1;}#sk-container-id-2 div.sk-label:hover label.sk-toggleable__label {background-color: #d4ebff;}#sk-container-id-2 div.sk-serial::before {content: \"\";position: absolute;border-left: 1px solid gray;box-sizing: border-box;top: 0;bottom: 0;left: 50%;z-index: 0;}#sk-container-id-2 div.sk-serial {display: flex;flex-direction: column;align-items: center;background-color: white;padding-right: 0.2em;padding-left: 0.2em;position: relative;}#sk-container-id-2 div.sk-item {position: relative;z-index: 1;}#sk-container-id-2 div.sk-parallel {display: flex;align-items: stretch;justify-content: center;background-color: white;position: relative;}#sk-container-id-2 div.sk-item::before, #sk-container-id-2 div.sk-parallel-item::before {content: \"\";position: absolute;border-left: 1px solid gray;box-sizing: border-box;top: 0;bottom: 0;left: 50%;z-index: -1;}#sk-container-id-2 div.sk-parallel-item {display: flex;flex-direction: column;z-index: 1;position: relative;background-color: white;}#sk-container-id-2 div.sk-parallel-item:first-child::after {align-self: flex-end;width: 50%;}#sk-container-id-2 div.sk-parallel-item:last-child::after {align-self: flex-start;width: 50%;}#sk-container-id-2 div.sk-parallel-item:only-child::after {width: 0;}#sk-container-id-2 div.sk-dashed-wrapped {border: 1px dashed gray;margin: 0 0.4em 0.5em 0.4em;box-sizing: border-box;padding-bottom: 0.4em;background-color: white;}#sk-container-id-2 div.sk-label label {font-family: monospace;font-weight: bold;display: inline-block;line-height: 1.2em;}#sk-container-id-2 div.sk-label-container {text-align: center;}#sk-container-id-2 div.sk-container {/* jupyter's `normalize.less` sets `[hidden] { display: none; }` but bootstrap.min.css set `[hidden] { display: none !important; }` so we also need the `!important` here to be able to override the default hidden behavior on the sphinx rendered scikit-learn.org. See: https://github.com/scikit-learn/scikit-learn/issues/21755 */display: inline-block !important;position: relative;}#sk-container-id-2 div.sk-text-repr-fallback {display: none;}</style><div id=\"sk-container-id-2\" class=\"sk-top-container\"><div class=\"sk-text-repr-fallback\"><pre>GridSearchCV(cv=5, estimator=LinearRegression(),\n",
       "             param_grid={&#x27;fit_intercept&#x27;: [True, False]},\n",
       "             scoring=&#x27;neg_mean_squared_error&#x27;)</pre><b>In a Jupyter environment, please rerun this cell to show the HTML representation or trust the notebook. <br />On GitHub, the HTML representation is unable to render, please try loading this page with nbviewer.org.</b></div><div class=\"sk-container\" hidden><div class=\"sk-item sk-dashed-wrapped\"><div class=\"sk-label-container\"><div class=\"sk-label sk-toggleable\"><input class=\"sk-toggleable__control sk-hidden--visually\" id=\"sk-estimator-id-2\" type=\"checkbox\" ><label for=\"sk-estimator-id-2\" class=\"sk-toggleable__label sk-toggleable__label-arrow\">GridSearchCV</label><div class=\"sk-toggleable__content\"><pre>GridSearchCV(cv=5, estimator=LinearRegression(),\n",
       "             param_grid={&#x27;fit_intercept&#x27;: [True, False]},\n",
       "             scoring=&#x27;neg_mean_squared_error&#x27;)</pre></div></div></div><div class=\"sk-parallel\"><div class=\"sk-parallel-item\"><div class=\"sk-item\"><div class=\"sk-label-container\"><div class=\"sk-label sk-toggleable\"><input class=\"sk-toggleable__control sk-hidden--visually\" id=\"sk-estimator-id-3\" type=\"checkbox\" ><label for=\"sk-estimator-id-3\" class=\"sk-toggleable__label sk-toggleable__label-arrow\">estimator: LinearRegression</label><div class=\"sk-toggleable__content\"><pre>LinearRegression()</pre></div></div></div><div class=\"sk-serial\"><div class=\"sk-item\"><div class=\"sk-estimator sk-toggleable\"><input class=\"sk-toggleable__control sk-hidden--visually\" id=\"sk-estimator-id-4\" type=\"checkbox\" ><label for=\"sk-estimator-id-4\" class=\"sk-toggleable__label sk-toggleable__label-arrow\">LinearRegression</label><div class=\"sk-toggleable__content\"><pre>LinearRegression()</pre></div></div></div></div></div></div></div></div></div></div>"
      ],
      "text/plain": [
       "GridSearchCV(cv=5, estimator=LinearRegression(),\n",
       "             param_grid={'fit_intercept': [True, False]},\n",
       "             scoring='neg_mean_squared_error')"
      ]
     },
     "execution_count": 17,
     "metadata": {},
     "output_type": "execute_result"
    }
   ],
   "source": [
    "from sklearn.model_selection import GridSearchCV\n",
    "\n",
    "param_grid = {\n",
    "    'fit_intercept': [True, False],\n",
    "    \n",
    "}\n",
    "\n",
    "regressor = LinearRegression()\n",
    "gs = GridSearchCV(regressor, param_grid, cv=5, scoring='neg_mean_squared_error')\n",
    "gs.fit(X, y)"
   ]
  },
  {
   "cell_type": "code",
   "execution_count": 18,
   "id": "9795d7d4",
   "metadata": {},
   "outputs": [
    {
     "name": "stdout",
     "output_type": "stream",
     "text": [
      "$114.39\n"
     ]
    }
   ],
   "source": [
    "regressor = gs.best_estimator_\n",
    "\n",
    "regressor.fit(X, y.values)\n",
    "y_pred = regressor.predict(X)\n",
    "error = np.sqrt(mean_squared_error(y, y_pred))\n",
    "print(\"${:,.02f}\".format(error))"
   ]
  },
  {
   "cell_type": "code",
   "execution_count": 19,
   "id": "b9fe791a",
   "metadata": {},
   "outputs": [
    {
     "data": {
      "text/plain": [
       "array([['Malabar Bay', 'Desserts', 'koramangala', 'veg julfreizi']],\n",
       "      dtype='<U13')"
      ]
     },
     "execution_count": 19,
     "metadata": {},
     "output_type": "execute_result"
    }
   ],
   "source": [
    "X = np.array([[  'Malabar Bay',\"Desserts\",'koramangala',\"veg julfreizi\" ]])\n",
    "X"
   ]
  },
  {
   "cell_type": "code",
   "execution_count": 20,
   "id": "7194ec7e",
   "metadata": {},
   "outputs": [
    {
     "data": {
      "text/plain": [
       "array([[ 216.,   82.,   18., 6427.]])"
      ]
     },
     "execution_count": 20,
     "metadata": {},
     "output_type": "execute_result"
    }
   ],
   "source": [
    "X[:, 1] = le_Cuisine.transform(X[:, 1])\n",
    "X[:, 2] = le_Location.transform(X[:, 2])\n",
    "X[:, 3] = le_Dish_Name.transform(X[:, 3])\n",
    "X[:, 0] = le_Restaurant_Name.transform(X[:, 0])\n",
    "\n",
    "X = X.astype(float)\n",
    "X"
   ]
  },
  {
   "cell_type": "code",
   "execution_count": 21,
   "id": "8ad933f0",
   "metadata": {},
   "outputs": [
    {
     "name": "stderr",
     "output_type": "stream",
     "text": [
      "C:\\Users\\khana\\.conda\\envs\\ml\\lib\\site-packages\\sklearn\\base.py:439: UserWarning: X does not have valid feature names, but LinearRegression was fitted with feature names\n",
      "  warnings.warn(\n"
     ]
    },
    {
     "data": {
      "text/plain": [
       "array([[173.02543215,  17.84042262]])"
      ]
     },
     "execution_count": 21,
     "metadata": {},
     "output_type": "execute_result"
    }
   ],
   "source": [
    "y_pred = regressor.predict(X)\n",
    "y_pred"
   ]
  },
  {
   "cell_type": "code",
   "execution_count": 22,
   "id": "0dcca3f8",
   "metadata": {},
   "outputs": [],
   "source": [
    "import pickle"
   ]
  },
  {
   "cell_type": "code",
   "execution_count": 23,
   "id": "51aed14e",
   "metadata": {},
   "outputs": [],
   "source": [
    "# save machine learning model with pickel libery\n",
    "data = {\"model\": regressor, \"le_Cuisine\": le_Cuisine, \"le_Location\": le_Location,\"le_Dish_Name\":le_Dish_Name}\n",
    "with open('saveded_steps.pkl', 'wb') as file:\n",
    "    pickle.dump(data, file)"
   ]
  },
  {
   "cell_type": "code",
   "execution_count": 24,
   "id": "ebfb1080",
   "metadata": {},
   "outputs": [],
   "source": [
    "with open('saveded_steps.pkl', 'rb') as file:\n",
    "    data = pickle.load(file)\n",
    "\n",
    "regressor_loaded = data[\"model\"]\n",
    "le_Cuisine = data[\"le_Cuisine\"]\n",
    "le_Location = data[\"le_Location\"]\n",
    "le_Dish_Name = data[\"le_Dish_Name\"]"
   ]
  },
  {
   "cell_type": "code",
   "execution_count": 25,
   "id": "c6c92a58",
   "metadata": {},
   "outputs": [
    {
     "name": "stderr",
     "output_type": "stream",
     "text": [
      "C:\\Users\\khana\\.conda\\envs\\ml\\lib\\site-packages\\sklearn\\base.py:439: UserWarning: X does not have valid feature names, but LinearRegression was fitted with feature names\n",
      "  warnings.warn(\n"
     ]
    },
    {
     "data": {
      "text/plain": [
       "array([[173.02543215,  17.84042262]])"
      ]
     },
     "execution_count": 25,
     "metadata": {},
     "output_type": "execute_result"
    }
   ],
   "source": [
    "y_pred = regressor_loaded.predict(X)\n",
    "y_pred"
   ]
  },
  {
   "cell_type": "code",
   "execution_count": null,
   "id": "607a4e7f",
   "metadata": {},
   "outputs": [],
   "source": []
  }
 ],
 "metadata": {
  "kernelspec": {
   "display_name": "ml",
   "language": "python",
   "name": "ml"
  },
  "language_info": {
   "codemirror_mode": {
    "name": "ipython",
    "version": 3
   },
   "file_extension": ".py",
   "mimetype": "text/x-python",
   "name": "python",
   "nbconvert_exporter": "python",
   "pygments_lexer": "ipython3",
   "version": "3.9.16"
  }
 },
 "nbformat": 4,
 "nbformat_minor": 5
}
