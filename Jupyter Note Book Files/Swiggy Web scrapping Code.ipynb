{
 "cells": [
  {
   "cell_type": "code",
   "execution_count": 1,
   "id": "c1f22958",
   "metadata": {},
   "outputs": [],
   "source": [
    "from bs4 import BeautifulSoup\n",
    "import requests\n",
    "import pandas as pd\n",
    "from urllib.request import Request\n",
    "from urllib.request import urlopen"
   ]
  },
  {
   "cell_type": "markdown",
   "id": "4b604743",
   "metadata": {},
   "source": [
    "# Table 1 Part"
   ]
  },
  {
   "cell_type": "code",
   "execution_count": 2,
   "id": "69bcb58e",
   "metadata": {},
   "outputs": [],
   "source": [
    "url=\"D:\\\\MASAI\\\\Order food online from India's best food delivery service. Order from restaurants near you.html\""
   ]
  },
  {
   "cell_type": "code",
   "execution_count": 3,
   "id": "e8d92aea",
   "metadata": {},
   "outputs": [],
   "source": [
    "headers={\n",
    "    'User-Agent':'Mozilla/5.0 (Windows NT 6.3; Win64; x64) AppleWebKit/537.36 (KHTML, like Gecko) Chrome/109.0.0.0 Safari/537.36 OPR/95.0.0.0'\n",
    "\n",
    "}"
   ]
  },
  {
   "cell_type": "code",
   "execution_count": 4,
   "id": "eb919879",
   "metadata": {},
   "outputs": [],
   "source": [
    "hrefs = []\n",
    "name_res = []\n",
    "cuisine_res =[]\n",
    "price_for_two_res = []"
   ]
  },
  {
   "cell_type": "code",
   "execution_count": 5,
   "id": "c66bf25e",
   "metadata": {},
   "outputs": [],
   "source": [
    "with open(url, \"r\") as f:\n",
    "    site = f.read()\n",
    "soup = BeautifulSoup(site, \"html.parser\")\n",
    "link_object = soup.findAll(\"a\",\"_1j_Yo\")\n",
    "names = soup.findAll(\"div\",\"nA6kb\")\n",
    "cuisines = soup.findAll(\"div\",\"_1gURR\")\n",
    "price_4_two = soup.findAll(\"div\", class_=\"nVWSi\")"
   ]
  },
  {
   "cell_type": "code",
   "execution_count": 6,
   "id": "122f6510",
   "metadata": {},
   "outputs": [],
   "source": [
    "for link in link_object:\n",
    "    hrefs.append(link[\"href\"])"
   ]
  },
  {
   "cell_type": "code",
   "execution_count": 7,
   "id": "077b309f",
   "metadata": {},
   "outputs": [
    {
     "data": {
      "text/plain": [
       "191"
      ]
     },
     "execution_count": 7,
     "metadata": {},
     "output_type": "execute_result"
    }
   ],
   "source": [
    "len(hrefs)"
   ]
  },
  {
   "cell_type": "code",
   "execution_count": 8,
   "id": "15f3b5fe",
   "metadata": {},
   "outputs": [],
   "source": [
    "for name in names:\n",
    "    name_res.append(name.text)"
   ]
  },
  {
   "cell_type": "code",
   "execution_count": 9,
   "id": "b8337f49",
   "metadata": {},
   "outputs": [
    {
     "data": {
      "text/plain": [
       "191"
      ]
     },
     "execution_count": 9,
     "metadata": {},
     "output_type": "execute_result"
    }
   ],
   "source": [
    "len(name_res)"
   ]
  },
  {
   "cell_type": "code",
   "execution_count": 10,
   "id": "3a43aa67",
   "metadata": {},
   "outputs": [],
   "source": [
    "for c in cuisines:\n",
    "    cuisine_res.append(c.text)"
   ]
  },
  {
   "cell_type": "code",
   "execution_count": 11,
   "id": "359269db",
   "metadata": {},
   "outputs": [
    {
     "data": {
      "text/plain": [
       "191"
      ]
     },
     "execution_count": 11,
     "metadata": {},
     "output_type": "execute_result"
    }
   ],
   "source": [
    "len(cuisine_res)"
   ]
  },
  {
   "cell_type": "code",
   "execution_count": 12,
   "id": "267235b9",
   "metadata": {},
   "outputs": [],
   "source": [
    "for p in price_4_two:\n",
    "    price_for_two_res.append(p.get_text())"
   ]
  },
  {
   "cell_type": "code",
   "execution_count": 14,
   "id": "ef3db7f6",
   "metadata": {},
   "outputs": [
    {
     "data": {
      "text/plain": [
       "191"
      ]
     },
     "execution_count": 14,
     "metadata": {},
     "output_type": "execute_result"
    }
   ],
   "source": [
    "len(price_for_two_res)"
   ]
  },
  {
   "cell_type": "code",
   "execution_count": 15,
   "id": "532bb1ce",
   "metadata": {},
   "outputs": [],
   "source": [
    "data = {'href': hrefs, 'name': name_res, 'cuisine': cuisine_res, 'price_4_two': price_for_two_res}\n",
    "df = pd.DataFrame(data)"
   ]
  },
  {
   "cell_type": "code",
   "execution_count": 32,
   "id": "c01f2919",
   "metadata": {},
   "outputs": [],
   "source": [
    "df.to_csv(\"swiggy_table1.csv\", index=False)"
   ]
  },
  {
   "cell_type": "code",
   "execution_count": 20,
   "id": "bb7ae388",
   "metadata": {},
   "outputs": [],
   "source": [
    "df[\"price_4_two\"]=df[\"price_4_two\"].str.replace(\"â‚¹\",\"\")"
   ]
  },
  {
   "cell_type": "code",
   "execution_count": 22,
   "id": "c2ade798",
   "metadata": {},
   "outputs": [],
   "source": [
    "df[\"price_4_two\"]=df[\"price_4_two\"].str.replace(\" FOR TWO\",\"\")"
   ]
  },
  {
   "cell_type": "code",
   "execution_count": 30,
   "id": "903a0ae2",
   "metadata": {},
   "outputs": [
    {
     "data": {
      "text/plain": [
       "href           object\n",
       "name           object\n",
       "cuisine        object\n",
       "price_4_two     int64\n",
       "dtype: object"
      ]
     },
     "execution_count": 30,
     "metadata": {},
     "output_type": "execute_result"
    }
   ],
   "source": [
    "df.dtypes"
   ]
  },
  {
   "cell_type": "code",
   "execution_count": 26,
   "id": "af795f2d",
   "metadata": {
    "collapsed": true
   },
   "outputs": [
    {
     "name": "stdout",
     "output_type": "stream",
     "text": [
      "href\n",
      "['https://www.swiggy.com/restaurants/abhishek-veg-restaurant-ganesh-nagar-erandwane-pune-21895'\n",
      " 'https://www.swiggy.com/restaurants/absolute-china-karve-road-erandwane-pune-213934'\n",
      " 'https://www.swiggy.com/restaurants/aditya-pure-veg-karve-road-erandwane-pune-27573'\n",
      " 'https://www.swiggy.com/restaurants/anand-veg-karve-road-erandwane-pune-35699'\n",
      " 'https://www.swiggy.com/restaurants/ars-arebian-shawarma-anand-nagar-sinhgad-road-pune-425795'\n",
      " 'https://www.swiggy.com/restaurants/ashok-bar-and-restaurant-somwar-peth-rasta-peth-pune-430276'\n",
      " 'https://www.swiggy.com/restaurants/atithi-veg-sinhgad-road-vadgaon-budruk-sinhgad-road-pune-617855'\n",
      " 'https://www.swiggy.com/restaurants/bamboo-house-jm-road-shivaji-nagar-pune-18090'\n",
      " 'https://www.swiggy.com/restaurants/barbeque-nation-r-deccan-mall-jm-road-pune-305794'\n",
      " 'https://www.swiggy.com/restaurants/barcode-restaurant-khilare-road-kothrud-pune-665529'\n",
      " 'https://www.swiggy.com/restaurants/barometer-paschimanagri-kothrud-pune-36195'\n",
      " 'https://www.swiggy.com/restaurants/baskin-robbins-happyness-shakes-sinhgad-road-anand-nagar-pune-580114'\n",
      " 'https://www.swiggy.com/restaurants/baskin-robbins-shitole-nagar-pimple-gurav-pune-374845'\n",
      " 'https://www.swiggy.com/restaurants/bawaal-kebabs-and-biryanis-agarwal-road-rasta-peth-pune-639622'\n",
      " 'https://www.swiggy.com/restaurants/behrouz-biryani-senapati-bapat-road-shaniwar-peth-pune-16847'\n",
      " 'https://www.swiggy.com/restaurants/best-belgian-waffle-pandurang-colony-erandwane-pune-65006'\n",
      " 'https://www.swiggy.com/restaurants/bhatti-chicken-grilled-not-fried-dhole-patil-road-koregaon-park-pune-616216'\n",
      " 'https://www.swiggy.com/restaurants/big-loaf-sandwich-karve-road-karve-nagar-pune-593836'\n",
      " 'https://www.swiggy.com/restaurants/bird-valley-sinhgad-road-vadgaon-budrukh-pune-372499'\n",
      " 'https://www.swiggy.com/restaurants/biryani-bowl-college-road-rasta-peth-pune-348840'\n",
      " 'https://www.swiggy.com/restaurants/boss-burger-fc-road-shivaji-nagar-pune-243172'\n",
      " 'https://www.swiggy.com/restaurants/box8-desi-meals-dhole-patil-road-bund-garden-road-pune-402922'\n",
      " 'https://www.swiggy.com/restaurants/brahma-garden-manik-baug-sinhgad-road-pune-21395'\n",
      " 'https://www.swiggy.com/restaurants/breaking-bread-pune-mehta-foods-bm-naik-apartment-shukrawar-peth-pune-398015'\n",
      " 'https://www.swiggy.com/restaurants/burger-69-and-more-by-burger-barn-fc-road-shivajinagar-pune-166390'\n",
      " 'https://www.swiggy.com/restaurants/burger-it-up-karve-road-kothrud-pune-204330'\n",
      " 'https://www.swiggy.com/restaurants/burger-king-paud-road-kothrud-pune-14548'\n",
      " 'https://www.swiggy.com/restaurants/cafe-chow-meow-late-ga-kulkarni-path-kothrud-pune-384196'\n",
      " 'https://www.swiggy.com/restaurants/cafe-peter-shivajinagar-shivaji-nagar-pune-77740'\n",
      " 'https://www.swiggy.com/restaurants/cafemcleo-tilak-rd-swargate-pune-667214'\n",
      " 'https://www.swiggy.com/restaurants/cake-panda-narayan-peth-budhwar-peth-pune-572626'\n",
      " 'https://www.swiggy.com/restaurants/cake-place-r-j-bakers-sud-nagar-shivajinagar-pune-642527'\n",
      " 'https://www.swiggy.com/restaurants/cake-point-cad-m-amrut-ganga-society-sinhgad-road-pune-538884'\n",
      " 'https://www.swiggy.com/restaurants/cakelite-the-cake-shop-ghorpade-peth-swargate-pune-335610'\n",
      " 'https://www.swiggy.com/restaurants/chaitanya-paranthas-fc-road-shivajinagar-pune-6239'\n",
      " 'https://www.swiggy.com/restaurants/china-house-sinhgad-road-pune-254299'\n",
      " 'https://www.swiggy.com/restaurants/chinese-wok-late-ga-kulkarni-path-kothrud-pune-326931'\n",
      " 'https://www.swiggy.com/restaurants/chinese-wok-master-karve-road-erandwane-pune-507140'\n",
      " 'https://www.swiggy.com/restaurants/chosen-biryani-karvenagar-food-court-warje-pune-495991'\n",
      " 'https://www.swiggy.com/restaurants/chow-chow-chinese-karve-road-erandwane-pune-167068'\n",
      " 'https://www.swiggy.com/restaurants/chowmeen-katta-ram-nagar-road-warje-pune-387381'\n",
      " 'https://www.swiggy.com/restaurants/cloud-khichdi-meenatai-thakare-nagar-karve-nagar-pune-258721'\n",
      " 'https://www.swiggy.com/restaurants/crazy-cheesy-sihagad-road-khau-galli-sinhgad-road-pune-377495'\n",
      " 'https://www.swiggy.com/restaurants/cream-corner-cake-n-cafe-sumedha-shri-society-parvati-pune-143339'\n",
      " 'https://www.swiggy.com/restaurants/cubanos-shivaji-nagar-pune-590539'\n",
      " 'https://www.swiggy.com/restaurants/deccan-express-sadashiv-peth-pune-463939'\n",
      " 'https://www.swiggy.com/restaurants/delicious-burger-zone-jangali-maharaj-road-shivajinagar-pune-649993'\n",
      " 'https://www.swiggy.com/restaurants/deshmukh-brand-biryani-karvenagar-warje-pune-692773'\n",
      " 'https://www.swiggy.com/restaurants/desi-handi-college-road-rasta-peth-pune-348831'\n",
      " 'https://www.swiggy.com/restaurants/dhaba-curry-college-road-rasta-peth-pune-348835'\n",
      " 'https://www.swiggy.com/restaurants/diamond-restaurant-lal-bahadur-shastri-road-sadashiv-peth-pune-564958'\n",
      " 'https://www.swiggy.com/restaurants/dum-safar-biryani-horizon-mall-sinhgad-road-pune-678954'\n",
      " 'https://www.swiggy.com/restaurants/evergreen-gaothan-shivaji-nagar-pune-663790'\n",
      " 'https://www.swiggy.com/restaurants/faasos-signature-wraps-and-rolls-fc-shaniwar-peth-pune-566221'\n",
      " 'https://www.swiggy.com/restaurants/faasos-wraps-and-rolls-fc-shaniwar-peth-pune-18808'\n",
      " 'https://www.swiggy.com/restaurants/falahaar-karve-road-kothrud-pune-519082'\n",
      " 'https://www.swiggy.com/restaurants/firangi-bake-beside-vinayak-jewellers-shaniwar-peth-pune-33938'\n",
      " 'https://www.swiggy.com/restaurants/fish-n-rolls-bahupatil-road-khadki-pune-25833'\n",
      " 'https://www.swiggy.com/restaurants/fountain-family-rest-o-bar-jm-road-shivaji-nagar-pune-16281'\n",
      " 'https://www.swiggy.com/restaurants/fried-chicken-destination-chaitanya-nagar-kothrud-pune-347069'\n",
      " 'https://www.swiggy.com/restaurants/george-restaurant-east-street-camp-area-pune-5408'\n",
      " 'https://www.swiggy.com/restaurants/girija-milk-and-juice-bar-snacks-tilak-road-swargate-pune-687231'\n",
      " 'https://www.swiggy.com/restaurants/global-punjab-erandwane-kothrud-pune-386374'\n",
      " 'https://www.swiggy.com/restaurants/globo-ice-creams-of-the-world-dhole-patil-road-bund-garden-road-pune-681302'\n",
      " 'https://www.swiggy.com/restaurants/gourmet-ice-cream-cakes-by-baskin-robbins-sinhgad-road-pune-382689'\n",
      " 'https://www.swiggy.com/restaurants/govinda-narayan-peth-deccan-gymkhana-pune-39942'\n",
      " 'https://www.swiggy.com/restaurants/grameen-kulfi-shivaji-nagar-koregaon-park-pune-386630'\n",
      " 'https://www.swiggy.com/restaurants/granny-ammaas-cake-rasta-peth-pune-135112'\n",
      " 'https://www.swiggy.com/restaurants/haldirams-restaurant-fergusson-college-road-shivaji-nagar-pune-366167'\n",
      " 'https://www.swiggy.com/restaurants/hari-om-juice-bar-sinhgad-road-pune-118104'\n",
      " 'https://www.swiggy.com/restaurants/homely-meals-69-bhawani-peth-camp-pune-488428'\n",
      " 'https://www.swiggy.com/restaurants/hot-kathi-rolls-fc-road-shivaji-nagar-pune-407187'\n",
      " 'https://www.swiggy.com/restaurants/hotel-aasra-biryani-house-shahu-chowk-shukrawar-peth-pune-366304'\n",
      " 'https://www.swiggy.com/restaurants/hotel-dawath-narveer-tanaji-wadi-shivajinagar-pune-628118'\n",
      " 'https://www.swiggy.com/restaurants/hotel-lazeez-narveer-tanaji-wadi-shivajinagar-pune-628114'\n",
      " 'https://www.swiggy.com/restaurants/hotel-malabar-narveer-tanaji-wadi-shivaji-nagar-pune-628116'\n",
      " 'https://www.swiggy.com/restaurants/hotel-mughal-darbar-narveer-tanaji-wadi-shivajinagar-pune-628117'\n",
      " 'https://www.swiggy.com/restaurants/hotel-nitha-narveer-tanaji-wadi-yerawada-pune-109231'\n",
      " 'https://www.swiggy.com/restaurants/hotel-peth-pujari-somwar-peth-rasta-peth-pune-598592'\n",
      " 'https://www.swiggy.com/restaurants/hyderabad-zaika-narveer-tanaji-wadi-shivajinagar-pune-651190'\n",
      " 'https://www.swiggy.com/restaurants/hyderabadi-zaika-biriyani-ghole-road-shivajinagar-pune-651192'\n",
      " 'https://www.swiggy.com/restaurants/irani-cafe-prabhat-road-erandwane-pune-200980'\n",
      " 'https://www.swiggy.com/restaurants/itminaan-matka-biryani-slow-cooked-dhole-patil-road-bund-garden-road-pune-402923'\n",
      " 'https://www.swiggy.com/restaurants/jayashree-garden-tilak-road-shukrawar-peth-pune-21560'\n",
      " 'https://www.swiggy.com/restaurants/juish-niranjan-park-sinhgad-road-pune-584978'\n",
      " 'https://www.swiggy.com/restaurants/kavi-garden-restaurant-karve-road-kothrud-pune-5126'\n",
      " 'https://www.swiggy.com/restaurants/kekiz-the-cake-shop-ghorpade-peth-shukrawar-peth-pune-297290'\n",
      " 'https://www.swiggy.com/restaurants/kfc-kumar-pacific-mall-swargate-pune-16063'\n",
      " 'https://www.swiggy.com/restaurants/khatri-bandhu-pot-ice-cream-baner-sinhgad-rd-pune-144266'\n",
      " 'https://www.swiggy.com/restaurants/kok-pa-chinese-fc-road-shivaji-nagar-pune-34715'\n",
      " 'https://www.swiggy.com/restaurants/kondhalkar-mastani-house-kaushik-co-op-society-sadashiv-peth-pune-160414'\n",
      " 'https://www.swiggy.com/restaurants/kwality-family-resto-bar-rahul-cinemas-ganesh-khindroad-shivaji-nagar-pune-440378'\n",
      " 'https://www.swiggy.com/restaurants/kwality-walls-frozen-dessert-and-ice-cream-shop-ghole-road-shivajinagar-pune-397335'\n",
      " 'https://www.swiggy.com/restaurants/la-pinoz-pizza-shivajinagar-f-c-road-pune-485330'\n",
      " 'https://www.swiggy.com/restaurants/leancrust-pizza-thincrust-experts-dhole-patil-road-bund-garden-road-pune-681553'\n",
      " 'https://www.swiggy.com/restaurants/lf-91-cafe-and-restaurant-sangvi-khadki-pune-210638'\n",
      " 'https://www.swiggy.com/restaurants/little-italy-model-colony-shivajinagar-pune-6726'\n",
      " 'https://www.swiggy.com/restaurants/lunchbox-meals-and-thalis-shaniwar-peth-narayan-peth-pune-62934'\n",
      " 'https://www.swiggy.com/restaurants/magic-noodles-house-rakshak-nagar-kharadi-pune-638440'\n",
      " 'https://www.swiggy.com/restaurants/mahesh-lunch-home-ambedkar-road-camp-area-pune-64956'\n",
      " 'https://www.swiggy.com/restaurants/mainland-chinese-khilare-patil-road-erandwane-pune-320870'\n",
      " 'https://www.swiggy.com/restaurants/marrakesh-paud-road-pune-4095'\n",
      " 'https://www.swiggy.com/restaurants/mcdonalds-jm-road-shivajinagar-pune-23719'\n",
      " 'https://www.swiggy.com/restaurants/mealful-rolls-indias-biggest-rolls-dhole-patil-road-pune-402924'\n",
      " 'https://www.swiggy.com/restaurants/mh-12-pav-bhaji-rasta-peth-pune-25486'\n",
      " 'https://www.swiggy.com/restaurants/mithla-paratha-and-thali-house-karve-nagar-swargate-pune-466550'\n",
      " 'https://www.swiggy.com/restaurants/mojo-pizza-2x-toppings-camp-koregaon-park-pune-622143'\n",
      " 'https://www.swiggy.com/restaurants/mughals-restaura-fergussoncollageroad-aundh-pune-702315'\n",
      " 'https://www.swiggy.com/restaurants/nanumal-bhojraj-tilak-road-swargate-pune-208223'\n",
      " 'https://www.swiggy.com/restaurants/natural-ice-cream-jm-road-shivajinagar-pune-32443'\n",
      " 'https://www.swiggy.com/restaurants/nawabi-zaika-narveer-tanaji-wadi-shivaji-nagar-pune-224450'\n",
      " 'https://www.swiggy.com/restaurants/new-girija-restaurant-swargate-pune-589501'\n",
      " 'https://www.swiggy.com/restaurants/nh1-bowls-highway-to-north-dhole-patil-road-pune-402927'\n",
      " 'https://www.swiggy.com/restaurants/nic-ice-creams-shivaji-nagar-jm-road-pune-386176'\n",
      " 'https://www.swiggy.com/restaurants/nisarg-karve-road-erandwane-pune-20154'\n",
      " 'https://www.swiggy.com/restaurants/nosh-biryani-sadashiv-peth-pune-580116'\n",
      " 'https://www.swiggy.com/restaurants/oceanic-bistro-cantonment-board-camp-pune-632093'\n",
      " 'https://www.swiggy.com/restaurants/oceanic-seafood-mg-road-camp-pune-646400'\n",
      " 'https://www.swiggy.com/restaurants/oven-story-pizza-law-college-road-erandwane-pune-229280'\n",
      " 'https://www.swiggy.com/restaurants/ovenfresh-ghole-road-shivaji-nagar-pune-695670'\n",
      " 'https://www.swiggy.com/restaurants/oye-pappe-tilak-road-sinhgad-road-pune-606616'\n",
      " 'https://www.swiggy.com/restaurants/persian-darbar-wellesley-road-camp-pune-663248'\n",
      " 'https://www.swiggy.com/restaurants/pizza-hut-fc-road-shivajinagar-pune-21001'\n",
      " 'https://www.swiggy.com/restaurants/pk-biryani-house-main-branch-mhatre-bridge-karve-nagar-pune-23151'\n",
      " 'https://www.swiggy.com/restaurants/pk-biryani-house-swargate-mitramandal-chowk-swargate-pune-142657'\n",
      " 'https://www.swiggy.com/restaurants/poona-central-restaurant-bhawani-peth-rasta-peth-pune-590570'\n",
      " 'https://www.swiggy.com/restaurants/preeti-pavbhaji-and-juicebar-shukrawar-peth-sadashiv-peth-pune-39602'\n",
      " 'https://www.swiggy.com/restaurants/pure-veg-meals-by-lunchbox-fc-shaniwar-peth-pune-263632'\n",
      " 'https://www.swiggy.com/restaurants/r-j-bakers-tilak-road-swargate-pune-540177'\n",
      " 'https://www.swiggy.com/restaurants/rajendra-paav-bhaji-rasta-peth-camp-pune-22469'\n",
      " 'https://www.swiggy.com/restaurants/rajmandir-ice-cream-ghole-road-shivaji-nagar-pune-379100'\n",
      " 'https://www.swiggy.com/restaurants/ramsar-bakery-congress-house-road-shivaji-nagar-pune-97272'\n",
      " 'https://www.swiggy.com/restaurants/relax-pure-veg-sahakar-nagar-parvati-pune-40165'\n",
      " 'https://www.swiggy.com/restaurants/reshma-bhurji-center-karve-road-erandwane-pune-63333'\n",
      " 'https://www.swiggy.com/restaurants/rolls-mania-sinhgad-road-pune-119529'\n",
      " 'https://www.swiggy.com/restaurants/s-d-restaurant-nda-road-warje-pune-595320'\n",
      " 'https://www.swiggy.com/restaurants/sagar-pure-veg-karve-road-warje-pune-694832'\n",
      " 'https://www.swiggy.com/restaurants/sai-chinese-khilare-patil-road-erandwane-pune-133233'\n",
      " 'https://www.swiggy.com/restaurants/sai-hotel-sadashiv-eth-swargate-pune-694073'\n",
      " 'https://www.swiggy.com/restaurants/sainath-khanawal-road-sadashiv-peth-pune-445257'\n",
      " 'https://www.swiggy.com/restaurants/samudra-veg-pandurang-colony-erandwane-pune-11887'\n",
      " 'https://www.swiggy.com/restaurants/sarovar-restaurant-and-bar-narayan-peth-deccan-gymkhana-pune-39719'\n",
      " 'https://www.swiggy.com/restaurants/shaandar-restaurant-and-sky-bar-anand-nagar-sinhgad-road-pune-521398'\n",
      " 'https://www.swiggy.com/restaurants/shaukeen-the-complete-paan-shop-pandurang-colony-erandwane-pune-70946'\n",
      " 'https://www.swiggy.com/restaurants/sheetal-restaurant-late-ga-kulkarni-path-kothrud-pune-42906'\n",
      " 'https://www.swiggy.com/restaurants/shorba-family-restaurant-sinhgad-road-pune-145609'\n",
      " 'https://www.swiggy.com/restaurants/shripad-fast-food-karve-nagar-pune-571420'\n",
      " 'https://www.swiggy.com/restaurants/siily-chilly-karve-road-kothrud-pune-400801'\n",
      " 'https://www.swiggy.com/restaurants/slay-coffee-law-college-road-erandwane-pune-229288'\n",
      " 'https://www.swiggy.com/restaurants/slice-of-spice-mg-road-camp-pune-647188'\n",
      " 'https://www.swiggy.com/restaurants/smoodies-and-juices-yours-fruitfully-ghole-road-shivajinagar-pune-661121'\n",
      " 'https://www.swiggy.com/restaurants/spring-onion-bhandarkar-road-deccan-gymkhana-pune-6723'\n",
      " 'https://www.swiggy.com/restaurants/starbucks-coffee-law-college-road-erandwane-pune-411288'\n",
      " 'https://www.swiggy.com/restaurants/subway-fc-road-deccan-gymkhana-pune-5624'\n",
      " 'https://www.swiggy.com/restaurants/sujata-mastani-samarth-road-karve-nagar-pune-376530'\n",
      " 'https://www.swiggy.com/restaurants/super-smash-burgers-by-burger-barn-fc-road-shivajinagar-pune-428330'\n",
      " 'https://www.swiggy.com/restaurants/sweet-truth-cake-and-desserts-fc-shaniwar-peth-pune-35873'\n",
      " 'https://www.swiggy.com/restaurants/taco-bell-f-c-road-pune-562873'\n",
      " 'https://www.swiggy.com/restaurants/the-belgian-waffle-co-jm-road-shivajinagar-pune-33848'\n",
      " 'https://www.swiggy.com/restaurants/the-betel-leaf-co-originally-from-bangalore-erandwane-pune-486105'\n",
      " 'https://www.swiggy.com/restaurants/the-biryani-life-fc-shaniwar-peth-pune-191275'\n",
      " 'https://www.swiggy.com/restaurants/the-burger-barn-cafe-fc-road-shivajinagar-pune-4338'\n",
      " 'https://www.swiggy.com/restaurants/the-cake-and-cream-factory-tilak-road-swargate-pune-643965'\n",
      " 'https://www.swiggy.com/restaurants/the-cake-carnival-manikbaug-sinhgad-road-pune-680221'\n",
      " 'https://www.swiggy.com/restaurants/the-china-express-niranjan-park-sinhgad-road-pune-514873'\n",
      " 'https://www.swiggy.com/restaurants/the-good-bowl-shanivarpeth-shaniwar-peth-pune-155434'\n",
      " 'https://www.swiggy.com/restaurants/the-green-roof-sinhagad-road-pune-19890'\n",
      " 'https://www.swiggy.com/restaurants/the-lcr-gymkhana-ghole-road-kothrud-pune-516396'\n",
      " 'https://www.swiggy.com/restaurants/the-little-punjab-sinhgad-road-sinhagad-road-pune-341598'\n",
      " 'https://www.swiggy.com/restaurants/the-punjabi-grill-sinhgad-road-pune-587076'\n",
      " 'https://www.swiggy.com/restaurants/tic-tac-tacos-ganga-bhgyoday-sinhgad-road-pune-544702'\n",
      " 'https://www.swiggy.com/restaurants/tummy-delights-jondhale-chowk-sadashiv-peth-pune-638227'\n",
      " 'https://www.swiggy.com/restaurants/ubq-by-barbeque-nation-r-deccan-mall-jm-road-pune-105252'\n",
      " 'https://www.swiggy.com/restaurants/ufo-fries-and-corn-gokul-nagar-shivajinagar-pune-34995'\n",
      " 'https://www.swiggy.com/restaurants/umar-fast-food-sadanand-nagar-camp-pune-662416'\n",
      " 'https://www.swiggy.com/restaurants/uncles-chinese-sachapir-street-camp-area-pune-648172'\n",
      " 'https://www.swiggy.com/restaurants/veg-daawat-by-behrouz-senapati-bapat-road-shaniwar-peth-pune-574987'\n",
      " 'https://www.swiggy.com/restaurants/vrindavan-kulfi-ice-cream-sun-city-sinhgad-road-pune-595069'\n",
      " 'https://www.swiggy.com/restaurants/vrudheshwar-pure-veg-congress-house-road-shivaji-nagar-pune-62231'\n",
      " 'https://www.swiggy.com/restaurants/warmoven-cake-and-desserts-karve-road-kothrud-pune-213654'\n",
      " 'https://www.swiggy.com/restaurants/wefit-bowls-salads-and-sandwiches-camp-south-extension-pune-643775'\n",
      " 'https://www.swiggy.com/restaurants/wendys-burgers-ask-building-law-college-road-pune-659799'\n",
      " 'https://www.swiggy.com/restaurants/wok-in-wok-out-mg-road-camp-pune-646407'\n",
      " 'https://www.swiggy.com/restaurants/woodlands-family-resto-bar-bhonde-colony-erandwane-pune-442506'\n",
      " 'https://www.swiggy.com/restaurants/woods-only-chinese-bridge-warje-pune-370293'\n",
      " 'https://www.swiggy.com/restaurants/ws-bakers-gukul-nagar-shivaji-nagar-pune-555711'\n",
      " 'https://www.swiggy.com/restaurants/yum-chinese-heavenly-and-hygienic-ghole-road-shivaji-nagar-pune-476183'\n",
      " 'https://www.swiggy.com/restaurants/yume-tummy-mg-road-camp-pune-647187'\n",
      " 'https://www.swiggy.com/restaurants/zaza-mughal-biryani-dhole-patil-road-pune-402928'\n",
      " 'https://www.swiggy.com/restaurants/zhatkan-patkan-rasoi-ghorpade-peth-swargate-pune-388747'\n",
      " 'https://www.swiggy.com/restaurants/zomoz-the-momo-company-law-college-road-erandwane-pune-507088']\n",
      "\n",
      "\n",
      "name\n",
      "['ARs AREBIAN SHAWARMA' 'Abhishek Veg Restaurant' 'Absolute China'\n",
      " 'Aditya Pure Veg' 'Anand Veg' 'Ashok Bar And Restaurant'\n",
      " 'Atithi veg (Sinhgad Road)' 'BOSS Burger' 'BOX8 - Desi Meals'\n",
      " 'Bamboo House' 'Barbeque Nation' 'Barcode Restaurant\\t' 'Barometer'\n",
      " 'Baskin Robbins' 'Baskin Robbins Happyness Shakes'\n",
      " 'Bawaal Kebabs and Biryanis' 'Behrouz Biryani' 'Best Belgian waffle'\n",
      " 'Bhatti Chicken - Grilled, NOT Fried!' 'Big Loaf Sandwich' 'Bird Valley'\n",
      " 'Biryani Bowl' 'Brahma Garden' 'Breaking Bread Pune - Mehta Foods'\n",
      " 'Burger 69 & More by Burger Barn' 'Burger It Up' 'Burger King'\n",
      " 'CRAZY CHEESY ( SIHAGAD ROAD)' 'Cafe Chow Meow' 'Cafe Peter' 'Cafemcleo'\n",
      " 'Cake Panda' 'Cake Place (R J Bakers)' 'Cake Point cad M'\n",
      " 'Cakelite The Cake shop' 'Chaitanya Paranthas' 'China House'\n",
      " 'Chinese Wok' 'Chinese Wok Master' 'Chosen Biryani' 'Chow Chow Chinese'\n",
      " 'Chowmeen Katta ' 'Cloud khichdi' 'Cream Corner Cake N Cafe' 'Cubanos'\n",
      " 'Deccan Express' 'Delicious Burger Zone' 'Deshmukh Brand Biryani'\n",
      " 'Desi Handi' 'Dhaba Curry' 'Diamond Restaurant' 'Dum Safar Biryani'\n",
      " 'Evergreen' 'FRIED CHICKEN DESTINATION' 'Faasos - Wraps & Rolls'\n",
      " \"Faasos' Signature Wraps & Rolls\" 'Falahaar' 'Firangi Bake'\n",
      " 'Fish N Rolls' 'Fountain Family Rest O Bar'\n",
      " 'GLOBO Ice Creams Of The World' 'George Restaurant'\n",
      " 'Girija Milk And Juice Bar Snacks' 'Global Punjab'\n",
      " 'Gourmet Ice Cream Cakes by Baskin Robbins' 'Govinda' 'Grameen Kulfi'\n",
      " 'Granny Ammaas Cake' 'HOT KATHI ROLLS' 'HOTEL PETH PUJARI'\n",
      " \"Haldiram's Restaurant\" 'Hari om juice bar' 'Homely Meals @69'\n",
      " 'Hotel Aasra Biryani House' 'Hotel Dawath\\t' 'Hotel Lazeez'\n",
      " 'Hotel Malabar\\t' 'Hotel Mughal Darbar\\t' 'Hotel Nitha' 'Hyderabad Zaika'\n",
      " 'Hyderabadi Zaika biriyani' 'Irani Cafe'\n",
      " 'Itminaan Matka Biryani - Slow Cooked' 'Jayashree Garden' 'Juish' 'KFC'\n",
      " 'Kavi Garden Restaurant' 'Kekiz The Cake Shop'\n",
      " 'Khatri Bandhu Pot Ice Cream' 'Kok Pa Chinese' 'Kondhalkar Mastani House'\n",
      " 'Kwality Family Resto Bar(Rahul Cinemas)'\n",
      " 'Kwality Walls Frozen Dessert and Ice Cream Shop' \"La Pino'z Pizza\"\n",
      " 'LeanCrust Pizza- ThinCrust Experts' 'Lf 91 cafe and restaurant'\n",
      " 'Little Italy' 'LunchBox - Meals and Thalis' 'MAINLAND CHINESE'\n",
      " 'MH 12 Pav Bhaji' 'MITHLA PARATHA AND THALI HOUSE'\n",
      " 'MOJO Pizza - 2X Toppings' 'Magic Noodles House' 'Mahesh Lunch Home'\n",
      " 'Marrakesh' \"McDonald's\" \"Mealful Rolls - India's Biggest Rolls\"\n",
      " 'Mughals Restaura' 'NEW GIRIJA RESTAURANT' 'NH1 Bowls - Highway To North'\n",
      " 'NIC Ice Creams' 'Nanumal Bhojraj' 'Natural Ice Cream' 'Nawabi Zaika'\n",
      " 'Nisarg' 'Nosh Biryani' 'OCEANIC BISTRO' 'Oceanic Seafood\\t'\n",
      " 'Oven Story Pizza' 'Ovenfresh' 'Oye Pappe' 'PK Biryani House (Swargate)'\n",
      " 'PK Biryani House Main Branch (Mhatre Bridge)' 'POONA CENTRAL RESTAURANT'\n",
      " 'Persian Darbar' 'Pizza Hut' 'Preeti Pavbhaji & Juicebar'\n",
      " 'Pure Veg Meals by Lunchbox' 'R J Bakers' 'Rajendra Paav Bhaji'\n",
      " 'Rajmandir Ice Cream' 'Ramsar Bakery' 'Relax Pure Veg'\n",
      " 'Reshma Bhurji Center' 'Rolls Mania' 'S D RESTAURANT'\n",
      " 'SHAANDAR RESTAURANT & SKY-BAR' 'SLAY Coffee' 'Sagar Pure Veg'\n",
      " 'Sai Chinese' 'Sai Hotel' 'Sainath Khanawal' 'Samudra Veg'\n",
      " 'Sarovar Restaurant & Bar' 'Shaukeen - The Complete Paan Shop'\n",
      " 'Sheetal Restaurant' 'Shorba Family Restaurant' 'Shripad Fast Food'\n",
      " 'Siily Chilly' 'Slice Of Spice' 'Smoodies & Juices- Yours Fruitfully'\n",
      " 'Spring Onion' 'Starbucks Coffee' 'Subway' 'Sujata Mastani'\n",
      " 'Super Smash Burgers by Burger Barn' 'Sweet Truth - Cake and Desserts'\n",
      " 'THE BETEL LEAF CO - Originally from Bangalore' 'THE LITTLE PUNJAB'\n",
      " 'TIC TAC TACOS' 'Taco Bell' 'The Belgian Waffle Co.' 'The Biryani Life'\n",
      " 'The Burger Barn Cafe' 'The Cake Carnival' 'The Cake and Cream Factory'\n",
      " 'The China Express' 'The Good Bowl' 'The Green Roof' 'The LCR Gymkhana'\n",
      " 'The Punjabi Grill' 'Tummy Delights' 'UBQ by Barbeque Nation'\n",
      " 'UFO Fries & Corn' 'Umar Fast Food' \"Uncle's Chinese\"\n",
      " 'Veg Daawat by Behrouz' 'Vrindavan kulfi ice cream'\n",
      " 'Vrudheshwar Pure Veg' 'WOODLANDS FAMILY RESTO BAR' 'WS Bakers'\n",
      " 'WarmOven Cake & Desserts' 'WeFit-Bowls, Salads & Sandwiches'\n",
      " \"Wendy's Burgers\" 'Wok In Wok Out\\t' 'Woods Only Chinese'\n",
      " 'YUM! Chinese- Heavenly and Hygienic' 'Yume Tummy\\t'\n",
      " 'ZAZA Mughal Biryani' 'Zhatkan Patkan Rasoi' 'Zomoz - The Momo Company']\n",
      "\n",
      "\n",
      "cuisine\n",
      "['American' 'American, Burgers, Fast Food, Beverages, Snacks'\n",
      " 'American, Snacks' 'Arabian, Beverages' 'Arabian, Chinese' 'Bakery'\n",
      " 'Bakery, Desserts' 'Bakery, Desserts, Ice Cream, Beverages'\n",
      " 'Bakery, Desserts, Ice Cream, Beverages, Sweets'\n",
      " 'Bakery, Desserts, Snacks' 'Bakery, Fast Food, Italian'\n",
      " 'Bakery, Fast Food, Pizzas' 'Bakery, Snacks'\n",
      " 'Bakery, Snacks, Desserts, Fast Food, Beverages, Indian, Street Food'\n",
      " 'Bakery, Snacks, Fast Food, Desserts, Beverages, Indian, Street Food'\n",
      " 'Beverages' 'Beverages, Cafe, Snacks, Desserts, Bakery, Ice Cream'\n",
      " 'Beverages, Chinese, Fast Food, Snacks, Pizzas' 'Beverages, Desserts'\n",
      " 'Beverages, Ice Cream' 'Beverages, Juices, Healthy Food, Desserts'\n",
      " 'Biryani' 'Biryani, Chinese'\n",
      " 'Biryani, Hyderabadi, Lucknowi, North Indian, Mughlai, Desserts'\n",
      " 'Biryani, Indian' 'Biryani, Indian, Chinese'\n",
      " 'Biryani, Kebabs, Tandoor, Indian, Desserts'\n",
      " 'Biryani, Maharashtrian, North Indian'\n",
      " 'Biryani, Maharashtrian, North Indian, Seafood'\n",
      " 'Biryani, Mughlai, Lucknowi, Hyderabadi, Kebabs, North Indian, Persian, Desserts'\n",
      " 'Biryani, North Indian, Awadhi' 'Biryani, North Indian, Mughlai'\n",
      " 'Biryani, North Indian, Thalis' 'Biryani, Sweets' 'Burgers, American'\n",
      " 'Burgers, American, Fast Food, Snacks'\n",
      " 'Burgers, Beverages, Cafe, Desserts'\n",
      " 'Burgers, Beverages, Desserts, American, Cafe'\n",
      " 'Burgers, Biryani, American, Snacks, Fast Food' 'Chinese'\n",
      " 'Chinese, Asian' 'Chinese, Asian, Tibetan, Desserts' 'Chinese, Biryani'\n",
      " 'Chinese, Fast Food, Pizzas, Beverages'\n",
      " 'Chinese, Fast Food, Tibetan, Beverages' 'Chinese, Indian'\n",
      " 'Chinese, Indian, Tandoor, Seafood, Fast Food'\n",
      " 'Chinese, Mughlai, North Indian, Thalis' 'Chinese, North Indian'\n",
      " 'Chinese, North Indian, Biryani' 'Chinese, Street Food, Snacks'\n",
      " 'Chinese, Thai, Beverages, Tibetan' 'Chinese, Thai, Pan-Asian, Seafood'\n",
      " 'Coastal' 'Continental' 'Desserts' 'Desserts, Bakery'\n",
      " 'Desserts, Bakery, Beverages' 'Desserts, Ice Cream'\n",
      " 'Desserts, Ice Cream, Bakery' 'Desserts, Ice Cream, Ice Cream Cakes'\n",
      " 'Fast Food'\n",
      " 'Fast Food, Juices, Beverages, Snacks, Pizzas, Italian, Street Food, Desserts'\n",
      " 'Fast Food, North Indian, Street Food, Desserts'\n",
      " 'Fast Food, Pizzas, Beverages' 'Fast Food, Snacks, Beverages'\n",
      " 'Fast Food, Snacks, North Indian, Desserts'\n",
      " 'Healthy Food, Indian, Beverages' 'Healthy Food, Salads, Keto, Snacks'\n",
      " 'Healthy Food, Salads, Snacks, Desserts, Beverages'\n",
      " 'Hyderabadi, North Indian, Thalis, Chinese' 'Ice Cream, Beverages'\n",
      " 'Ice Cream, Desserts' 'Ice Cream, Desserts, Bakery'\n",
      " 'Ice Cream, Desserts, Beverages' 'Indian' 'Indian, Chinese, Beverages'\n",
      " 'Indian, Chinese, Biryani, Tandoor'\n",
      " 'Indian, Chinese, Continental, Pan-Asian'\n",
      " 'Indian, Chinese, Fast Food, Biryani, Kebabs' 'Indian, Chinese, Snacks'\n",
      " 'Indian, Snacks' 'Indian, Snacks, Continental, Beverages'\n",
      " 'Italian, Asian, Snacks, Chinese, Burgers' 'Italian, Mexican, Pastas'\n",
      " 'Italian, Pizzas, Pastas, Salads, Desserts' 'Kebabs, Biryani'\n",
      " 'Lebanese, North Indian, Afghani, Mughlai, Biryani, Kebabs, Mediterranean, Middle...'\n",
      " 'Maharashtrian, Chinese, Indian, Biryani'\n",
      " 'Maharashtrian, North Indian, Fast Food, Snacks, Biryani, Beverages'\n",
      " 'Maharashtrian, Seafood, North Indian, Chinese' 'Maharashtrian, Thalis'\n",
      " 'Mexican' 'Mexican, Snacks' 'Mughlai, North Indian, Continental'\n",
      " 'Mughlai, North Indian, Snacks, Chinese, Thalis' 'North Indian'\n",
      " 'North Indian, Barbecue, Biryani, Kebabs, Mughlai, Desserts'\n",
      " 'North Indian, Biryani, Thalis, Home Food'\n",
      " 'North Indian, Burgers, Desserts' 'North Indian, Chinese'\n",
      " 'North Indian, Chinese, Asian, Continental'\n",
      " 'North Indian, Chinese, Biryani'\n",
      " 'North Indian, Chinese, Biryani, Fast Food, Seafood'\n",
      " 'North Indian, Chinese, Biryani, Mughlai, Parsi'\n",
      " 'North Indian, Chinese, Biryani, Snacks'\n",
      " 'North Indian, Chinese, Biryani, Tandoor, Kebabs, Snacks, Desserts, Beverages'\n",
      " 'North Indian, Chinese, Continental'\n",
      " 'North Indian, Chinese, South Indian'\n",
      " 'North Indian, Chinese, South Indian, Maharashtrian'\n",
      " 'North Indian, Chinese, South Indian, Mexican, Italian'\n",
      " 'North Indian, Chinese, Tandoor, Biryani'\n",
      " 'North Indian, Continental, Pastas, Beverages, Chinese'\n",
      " 'North Indian, Desserts, Biryani' 'North Indian, Indian, Chinese'\n",
      " 'North Indian, Indian, Chinese, Kebabs, Desserts'\n",
      " 'North Indian, Maharashtrian, Chinese, Fast Food'\n",
      " 'North Indian, Mughlai, Tandoor, Chinese, Beverages'\n",
      " 'North Indian, Punjabi, Biryani, Chinese, Beverages, Desserts, Jain, Indian, Hyde...'\n",
      " 'North Indian, Punjabi, Biryani, Chinese, Desserts'\n",
      " 'North Indian, Punjabi, Biryani, Healthy Food, Jain, Thalis, Indian, Mughlai, Des...'\n",
      " 'North Indian, Punjabi, Chinese, Thalis, Beverages, Desserts'\n",
      " 'North Indian, Punjabi, Home Food'\n",
      " 'North Indian, Punjabi, Maharashtrian, Gujarati'\n",
      " 'North Indian, Snacks, Fast Food, Tandoor'\n",
      " 'North Indian, South Indian, Chinese'\n",
      " 'North Indian, South Indian, Chinese, Juices, Biryani, Punjabi'\n",
      " 'North Indian, South Indian, Sweets, Desserts, Chaat'\n",
      " 'North Indian, Thalis' 'Paan, Desserts, Indian, Ice Cream' 'Pizzas'\n",
      " 'Pizzas, Burgers, Sweets' 'Pizzas, Italian, Beverages, Snacks, Desserts'\n",
      " 'Pizzas, Italian, Desserts' 'Pizzas, Italian, Fast Food, Desserts'\n",
      " 'Pizzas, Pastas, American, Italian' 'Punjabi, North Indian'\n",
      " 'Snacks, Beverages, Desserts, Indian' 'Snacks, Indian'\n",
      " 'Snacks, North Indian' 'Snacks, Pizzas, Beverages, Street Food'\n",
      " 'South Indian, North Indian, Chinese, Snacks, Beverages'\n",
      " 'Street Food, Desserts' 'Street Food, Snacks, Pizzas, South Indian'\n",
      " 'Waffle, Desserts, Ice Cream, Beverages']\n",
      "\n",
      "\n",
      "price_4_two\n",
      "['100' '1000' '1100' '120' '1200' '150' '199' '200' '250' '270' '299'\n",
      " '300' '350' '40' '400' '450' '500' '550' '600' '700' '750' '80' '800'\n",
      " '900']\n",
      "\n",
      "\n"
     ]
    }
   ],
   "source": [
    "for i in df.columns:\n",
    "    print(i,df[i].sort_values().unique(),\"\\n\",sep = \"\\n\")"
   ]
  },
  {
   "cell_type": "code",
   "execution_count": 27,
   "id": "393f6942",
   "metadata": {},
   "outputs": [],
   "source": [
    "df[\"price_4_two\"]=df[\"price_4_two\"].astype(\"int64\")"
   ]
  },
  {
   "cell_type": "code",
   "execution_count": 33,
   "id": "bb58da93",
   "metadata": {},
   "outputs": [
    {
     "data": {
      "text/html": [
       "<div>\n",
       "<style scoped>\n",
       "    .dataframe tbody tr th:only-of-type {\n",
       "        vertical-align: middle;\n",
       "    }\n",
       "\n",
       "    .dataframe tbody tr th {\n",
       "        vertical-align: top;\n",
       "    }\n",
       "\n",
       "    .dataframe thead th {\n",
       "        text-align: right;\n",
       "    }\n",
       "</style>\n",
       "<table border=\"1\" class=\"dataframe\">\n",
       "  <thead>\n",
       "    <tr style=\"text-align: right;\">\n",
       "      <th></th>\n",
       "      <th>href</th>\n",
       "      <th>name</th>\n",
       "      <th>cuisine</th>\n",
       "      <th>price_4_two</th>\n",
       "    </tr>\n",
       "  </thead>\n",
       "  <tbody>\n",
       "    <tr>\n",
       "      <th>0</th>\n",
       "      <td>https://www.swiggy.com/restaurants/burger-king...</td>\n",
       "      <td>Burger King</td>\n",
       "      <td>Burgers, American</td>\n",
       "      <td>350</td>\n",
       "    </tr>\n",
       "    <tr>\n",
       "      <th>1</th>\n",
       "      <td>https://www.swiggy.com/restaurants/chaitanya-p...</td>\n",
       "      <td>Chaitanya Paranthas</td>\n",
       "      <td>North Indian, Punjabi, Chinese, Thalis, Bevera...</td>\n",
       "      <td>250</td>\n",
       "    </tr>\n",
       "    <tr>\n",
       "      <th>2</th>\n",
       "      <td>https://www.swiggy.com/restaurants/mh-12-pav-b...</td>\n",
       "      <td>MH 12 Pav Bhaji</td>\n",
       "      <td>Snacks, Pizzas, Beverages, Street Food</td>\n",
       "      <td>250</td>\n",
       "    </tr>\n",
       "    <tr>\n",
       "      <th>3</th>\n",
       "      <td>https://www.swiggy.com/restaurants/marrakesh-p...</td>\n",
       "      <td>Marrakesh</td>\n",
       "      <td>Lebanese, North Indian, Afghani, Mughlai, Biry...</td>\n",
       "      <td>300</td>\n",
       "    </tr>\n",
       "    <tr>\n",
       "      <th>4</th>\n",
       "      <td>https://www.swiggy.com/restaurants/kok-pa-chin...</td>\n",
       "      <td>Kok Pa Chinese</td>\n",
       "      <td>Chinese, Asian</td>\n",
       "      <td>250</td>\n",
       "    </tr>\n",
       "    <tr>\n",
       "      <th>...</th>\n",
       "      <td>...</td>\n",
       "      <td>...</td>\n",
       "      <td>...</td>\n",
       "      <td>...</td>\n",
       "    </tr>\n",
       "    <tr>\n",
       "      <th>186</th>\n",
       "      <td>https://www.swiggy.com/restaurants/oye-pappe-t...</td>\n",
       "      <td>Oye Pappe</td>\n",
       "      <td>North Indian, Indian, Chinese</td>\n",
       "      <td>150</td>\n",
       "    </tr>\n",
       "    <tr>\n",
       "      <th>187</th>\n",
       "      <td>https://www.swiggy.com/restaurants/the-punjabi...</td>\n",
       "      <td>The Punjabi Grill</td>\n",
       "      <td>Kebabs, Biryani</td>\n",
       "      <td>400</td>\n",
       "    </tr>\n",
       "    <tr>\n",
       "      <th>188</th>\n",
       "      <td>https://www.swiggy.com/restaurants/baskin-robb...</td>\n",
       "      <td>Baskin Robbins</td>\n",
       "      <td>Desserts, Ice Cream</td>\n",
       "      <td>250</td>\n",
       "    </tr>\n",
       "    <tr>\n",
       "      <th>189</th>\n",
       "      <td>https://www.swiggy.com/restaurants/chowmeen-ka...</td>\n",
       "      <td>Chowmeen Katta</td>\n",
       "      <td>Chinese, Indian</td>\n",
       "      <td>150</td>\n",
       "    </tr>\n",
       "    <tr>\n",
       "      <th>190</th>\n",
       "      <td>https://www.swiggy.com/restaurants/woods-only-...</td>\n",
       "      <td>Woods Only Chinese</td>\n",
       "      <td>Chinese</td>\n",
       "      <td>150</td>\n",
       "    </tr>\n",
       "  </tbody>\n",
       "</table>\n",
       "<p>191 rows × 4 columns</p>\n",
       "</div>"
      ],
      "text/plain": [
       "                                                  href                 name  \\\n",
       "0    https://www.swiggy.com/restaurants/burger-king...          Burger King   \n",
       "1    https://www.swiggy.com/restaurants/chaitanya-p...  Chaitanya Paranthas   \n",
       "2    https://www.swiggy.com/restaurants/mh-12-pav-b...      MH 12 Pav Bhaji   \n",
       "3    https://www.swiggy.com/restaurants/marrakesh-p...            Marrakesh   \n",
       "4    https://www.swiggy.com/restaurants/kok-pa-chin...       Kok Pa Chinese   \n",
       "..                                                 ...                  ...   \n",
       "186  https://www.swiggy.com/restaurants/oye-pappe-t...            Oye Pappe   \n",
       "187  https://www.swiggy.com/restaurants/the-punjabi...    The Punjabi Grill   \n",
       "188  https://www.swiggy.com/restaurants/baskin-robb...       Baskin Robbins   \n",
       "189  https://www.swiggy.com/restaurants/chowmeen-ka...      Chowmeen Katta    \n",
       "190  https://www.swiggy.com/restaurants/woods-only-...   Woods Only Chinese   \n",
       "\n",
       "                                               cuisine  price_4_two  \n",
       "0                                    Burgers, American          350  \n",
       "1    North Indian, Punjabi, Chinese, Thalis, Bevera...          250  \n",
       "2               Snacks, Pizzas, Beverages, Street Food          250  \n",
       "3    Lebanese, North Indian, Afghani, Mughlai, Biry...          300  \n",
       "4                                       Chinese, Asian          250  \n",
       "..                                                 ...          ...  \n",
       "186                      North Indian, Indian, Chinese          150  \n",
       "187                                    Kebabs, Biryani          400  \n",
       "188                                Desserts, Ice Cream          250  \n",
       "189                                    Chinese, Indian          150  \n",
       "190                                            Chinese          150  \n",
       "\n",
       "[191 rows x 4 columns]"
      ]
     },
     "execution_count": 33,
     "metadata": {},
     "output_type": "execute_result"
    }
   ],
   "source": [
    "df"
   ]
  },
  {
   "cell_type": "markdown",
   "id": "adf191ee",
   "metadata": {},
   "source": [
    "# Part 2"
   ]
  },
  {
   "cell_type": "code",
   "execution_count": 34,
   "id": "3f612646",
   "metadata": {},
   "outputs": [],
   "source": [
    "sample_l_=[]"
   ]
  },
  {
   "cell_type": "code",
   "execution_count": 37,
   "id": "7c99f62b",
   "metadata": {},
   "outputs": [],
   "source": [
    "avg_delivery_time=[]\n",
    "store_url=[]\n",
    "dishes_details=[]\n",
    "rating_res=[]\n",
    "dishes_dummy=[]\n",
    "dishes=[]"
   ]
  },
  {
   "cell_type": "code",
   "execution_count": 40,
   "id": "5e1280e3",
   "metadata": {},
   "outputs": [],
   "source": [
    "for url in hrefs:\n",
    "    response = requests.get(url, headers=headers)\n",
    "    \n",
    "    # Check for a 403 error\n",
    "    if response.status_code == 403:\n",
    "        print('Error 403: Access denied')     \n",
    "        print(url)\n",
    "    else:\n",
    "        soup = BeautifulSoup(response.content, 'html.parser')\n",
    "        store_url.append(url)\n",
    "    \n",
    "        ratings = soup.findAll(\"span\",\"RestaurantRatings_totalRatings__3d6Zc\")\n",
    "        for i in ratings:\n",
    "            rating_res.append(i.text)   \n",
    "            \n",
    "        menus= soup.findAll(\"div\",\"styles_detailsContainer__22vh8\")\n",
    "        for i in menus:\n",
    "            dishes_dummy.append(i.text)\n",
    "            \n",
    "        dishes.append(dishes_dummy)      "
   ]
  },
  {
   "cell_type": "code",
   "execution_count": 41,
   "id": "8f0c523a",
   "metadata": {},
   "outputs": [],
   "source": [
    "data1 = {\"Store Url\":store_url,\"Rating\":rating_res,\"dishes_details\":dishes}"
   ]
  },
  {
   "cell_type": "code",
   "execution_count": 42,
   "id": "4bd7bbf4",
   "metadata": {
    "collapsed": true
   },
   "outputs": [
    {
     "ename": "ValueError",
     "evalue": "All arrays must be of the same length",
     "output_type": "error",
     "traceback": [
      "\u001b[1;31m---------------------------------------------------------------------------\u001b[0m",
      "\u001b[1;31mValueError\u001b[0m                                Traceback (most recent call last)",
      "Cell \u001b[1;32mIn[42], line 1\u001b[0m\n\u001b[1;32m----> 1\u001b[0m t2 \u001b[38;5;241m=\u001b[39m \u001b[43mpd\u001b[49m\u001b[38;5;241;43m.\u001b[39;49m\u001b[43mDataFrame\u001b[49m\u001b[43m(\u001b[49m\u001b[43mdata1\u001b[49m\u001b[43m)\u001b[49m\n",
      "File \u001b[1;32m~\\AppData\\Local\\Programs\\Python\\Python39\\lib\\site-packages\\pandas\\core\\frame.py:664\u001b[0m, in \u001b[0;36mDataFrame.__init__\u001b[1;34m(self, data, index, columns, dtype, copy)\u001b[0m\n\u001b[0;32m    658\u001b[0m     mgr \u001b[38;5;241m=\u001b[39m \u001b[38;5;28mself\u001b[39m\u001b[38;5;241m.\u001b[39m_init_mgr(\n\u001b[0;32m    659\u001b[0m         data, axes\u001b[38;5;241m=\u001b[39m{\u001b[38;5;124m\"\u001b[39m\u001b[38;5;124mindex\u001b[39m\u001b[38;5;124m\"\u001b[39m: index, \u001b[38;5;124m\"\u001b[39m\u001b[38;5;124mcolumns\u001b[39m\u001b[38;5;124m\"\u001b[39m: columns}, dtype\u001b[38;5;241m=\u001b[39mdtype, copy\u001b[38;5;241m=\u001b[39mcopy\n\u001b[0;32m    660\u001b[0m     )\n\u001b[0;32m    662\u001b[0m \u001b[38;5;28;01melif\u001b[39;00m \u001b[38;5;28misinstance\u001b[39m(data, \u001b[38;5;28mdict\u001b[39m):\n\u001b[0;32m    663\u001b[0m     \u001b[38;5;66;03m# GH#38939 de facto copy defaults to False only in non-dict cases\u001b[39;00m\n\u001b[1;32m--> 664\u001b[0m     mgr \u001b[38;5;241m=\u001b[39m \u001b[43mdict_to_mgr\u001b[49m\u001b[43m(\u001b[49m\u001b[43mdata\u001b[49m\u001b[43m,\u001b[49m\u001b[43m \u001b[49m\u001b[43mindex\u001b[49m\u001b[43m,\u001b[49m\u001b[43m \u001b[49m\u001b[43mcolumns\u001b[49m\u001b[43m,\u001b[49m\u001b[43m \u001b[49m\u001b[43mdtype\u001b[49m\u001b[38;5;241;43m=\u001b[39;49m\u001b[43mdtype\u001b[49m\u001b[43m,\u001b[49m\u001b[43m \u001b[49m\u001b[43mcopy\u001b[49m\u001b[38;5;241;43m=\u001b[39;49m\u001b[43mcopy\u001b[49m\u001b[43m,\u001b[49m\u001b[43m \u001b[49m\u001b[43mtyp\u001b[49m\u001b[38;5;241;43m=\u001b[39;49m\u001b[43mmanager\u001b[49m\u001b[43m)\u001b[49m\n\u001b[0;32m    665\u001b[0m \u001b[38;5;28;01melif\u001b[39;00m \u001b[38;5;28misinstance\u001b[39m(data, ma\u001b[38;5;241m.\u001b[39mMaskedArray):\n\u001b[0;32m    666\u001b[0m     \u001b[38;5;28;01mimport\u001b[39;00m \u001b[38;5;21;01mnumpy\u001b[39;00m\u001b[38;5;21;01m.\u001b[39;00m\u001b[38;5;21;01mma\u001b[39;00m\u001b[38;5;21;01m.\u001b[39;00m\u001b[38;5;21;01mmrecords\u001b[39;00m \u001b[38;5;28;01mas\u001b[39;00m \u001b[38;5;21;01mmrecords\u001b[39;00m\n",
      "File \u001b[1;32m~\\AppData\\Local\\Programs\\Python\\Python39\\lib\\site-packages\\pandas\\core\\internals\\construction.py:493\u001b[0m, in \u001b[0;36mdict_to_mgr\u001b[1;34m(data, index, columns, dtype, typ, copy)\u001b[0m\n\u001b[0;32m    489\u001b[0m     \u001b[38;5;28;01melse\u001b[39;00m:\n\u001b[0;32m    490\u001b[0m         \u001b[38;5;66;03m# dtype check to exclude e.g. range objects, scalars\u001b[39;00m\n\u001b[0;32m    491\u001b[0m         arrays \u001b[38;5;241m=\u001b[39m [x\u001b[38;5;241m.\u001b[39mcopy() \u001b[38;5;28;01mif\u001b[39;00m \u001b[38;5;28mhasattr\u001b[39m(x, \u001b[38;5;124m\"\u001b[39m\u001b[38;5;124mdtype\u001b[39m\u001b[38;5;124m\"\u001b[39m) \u001b[38;5;28;01melse\u001b[39;00m x \u001b[38;5;28;01mfor\u001b[39;00m x \u001b[38;5;129;01min\u001b[39;00m arrays]\n\u001b[1;32m--> 493\u001b[0m \u001b[38;5;28;01mreturn\u001b[39;00m \u001b[43marrays_to_mgr\u001b[49m\u001b[43m(\u001b[49m\u001b[43marrays\u001b[49m\u001b[43m,\u001b[49m\u001b[43m \u001b[49m\u001b[43mcolumns\u001b[49m\u001b[43m,\u001b[49m\u001b[43m \u001b[49m\u001b[43mindex\u001b[49m\u001b[43m,\u001b[49m\u001b[43m \u001b[49m\u001b[43mdtype\u001b[49m\u001b[38;5;241;43m=\u001b[39;49m\u001b[43mdtype\u001b[49m\u001b[43m,\u001b[49m\u001b[43m \u001b[49m\u001b[43mtyp\u001b[49m\u001b[38;5;241;43m=\u001b[39;49m\u001b[43mtyp\u001b[49m\u001b[43m,\u001b[49m\u001b[43m \u001b[49m\u001b[43mconsolidate\u001b[49m\u001b[38;5;241;43m=\u001b[39;49m\u001b[43mcopy\u001b[49m\u001b[43m)\u001b[49m\n",
      "File \u001b[1;32m~\\AppData\\Local\\Programs\\Python\\Python39\\lib\\site-packages\\pandas\\core\\internals\\construction.py:118\u001b[0m, in \u001b[0;36marrays_to_mgr\u001b[1;34m(arrays, columns, index, dtype, verify_integrity, typ, consolidate)\u001b[0m\n\u001b[0;32m    115\u001b[0m \u001b[38;5;28;01mif\u001b[39;00m verify_integrity:\n\u001b[0;32m    116\u001b[0m     \u001b[38;5;66;03m# figure out the index, if necessary\u001b[39;00m\n\u001b[0;32m    117\u001b[0m     \u001b[38;5;28;01mif\u001b[39;00m index \u001b[38;5;129;01mis\u001b[39;00m \u001b[38;5;28;01mNone\u001b[39;00m:\n\u001b[1;32m--> 118\u001b[0m         index \u001b[38;5;241m=\u001b[39m \u001b[43m_extract_index\u001b[49m\u001b[43m(\u001b[49m\u001b[43marrays\u001b[49m\u001b[43m)\u001b[49m\n\u001b[0;32m    119\u001b[0m     \u001b[38;5;28;01melse\u001b[39;00m:\n\u001b[0;32m    120\u001b[0m         index \u001b[38;5;241m=\u001b[39m ensure_index(index)\n",
      "File \u001b[1;32m~\\AppData\\Local\\Programs\\Python\\Python39\\lib\\site-packages\\pandas\\core\\internals\\construction.py:666\u001b[0m, in \u001b[0;36m_extract_index\u001b[1;34m(data)\u001b[0m\n\u001b[0;32m    664\u001b[0m lengths \u001b[38;5;241m=\u001b[39m \u001b[38;5;28mlist\u001b[39m(\u001b[38;5;28mset\u001b[39m(raw_lengths))\n\u001b[0;32m    665\u001b[0m \u001b[38;5;28;01mif\u001b[39;00m \u001b[38;5;28mlen\u001b[39m(lengths) \u001b[38;5;241m>\u001b[39m \u001b[38;5;241m1\u001b[39m:\n\u001b[1;32m--> 666\u001b[0m     \u001b[38;5;28;01mraise\u001b[39;00m \u001b[38;5;167;01mValueError\u001b[39;00m(\u001b[38;5;124m\"\u001b[39m\u001b[38;5;124mAll arrays must be of the same length\u001b[39m\u001b[38;5;124m\"\u001b[39m)\n\u001b[0;32m    668\u001b[0m \u001b[38;5;28;01mif\u001b[39;00m have_dicts:\n\u001b[0;32m    669\u001b[0m     \u001b[38;5;28;01mraise\u001b[39;00m \u001b[38;5;167;01mValueError\u001b[39;00m(\n\u001b[0;32m    670\u001b[0m         \u001b[38;5;124m\"\u001b[39m\u001b[38;5;124mMixing dicts with non-Series may lead to ambiguous ordering.\u001b[39m\u001b[38;5;124m\"\u001b[39m\n\u001b[0;32m    671\u001b[0m     )\n",
      "\u001b[1;31mValueError\u001b[0m: All arrays must be of the same length"
     ]
    }
   ],
   "source": []
  },
  {
   "cell_type": "code",
   "execution_count": 58,
   "id": "ff0b3bfd",
   "metadata": {},
   "outputs": [],
   "source": [
    "restaurant_info = pd.DataFrame(columns=[ 'name','price_for_one_two', 'cusines'])\n",
    "\n",
    "for restaurant in soup.find_all('div', class_='_3XX_A'):\n",
    "#     restaurant_id = restaurant.get('data-restaurant-id')\n",
    "#     restaurant_link = 'https://www.swiggy.com/restaurants/' + restaurant.get('data-url').split('/')[-1]\n",
    "    name = restaurant.find('div', class_='nA6kb').text\n",
    "#     rating = restaurant.find('div', class_='_3c3Px').text\n",
    "    price_for_one_two = restaurant.find('div', class_='nVWSi').text\n",
    "    cusines = restaurant.find('div', class_='_1gURR').text\n",
    "    restaurant_info = restaurant_info.append({ 'name': name, 'price_for_one_two': price_for_one_two, 'cusines': cusines}, ignore_index=True)"
   ]
  },
  {
   "cell_type": "code",
   "execution_count": 62,
   "id": "5ad3f5ac",
   "metadata": {},
   "outputs": [
    {
     "data": {
      "text/html": [
       "<div>\n",
       "<style scoped>\n",
       "    .dataframe tbody tr th:only-of-type {\n",
       "        vertical-align: middle;\n",
       "    }\n",
       "\n",
       "    .dataframe tbody tr th {\n",
       "        vertical-align: top;\n",
       "    }\n",
       "\n",
       "    .dataframe thead th {\n",
       "        text-align: right;\n",
       "    }\n",
       "</style>\n",
       "<table border=\"1\" class=\"dataframe\">\n",
       "  <thead>\n",
       "    <tr style=\"text-align: right;\">\n",
       "      <th></th>\n",
       "      <th>name</th>\n",
       "      <th>price_for_one_two</th>\n",
       "      <th>cusines</th>\n",
       "    </tr>\n",
       "  </thead>\n",
       "  <tbody>\n",
       "  </tbody>\n",
       "</table>\n",
       "</div>"
      ],
      "text/plain": [
       "Empty DataFrame\n",
       "Columns: [name, price_for_one_two, cusines]\n",
       "Index: []"
      ]
     },
     "execution_count": 62,
     "metadata": {},
     "output_type": "execute_result"
    }
   ],
   "source": [
    "restaurant_info"
   ]
  },
  {
   "cell_type": "code",
   "execution_count": 61,
   "id": "1eb948b5",
   "metadata": {},
   "outputs": [],
   "source": [
    "restaurant_details = pd.DataFrame(columns=['restaurant_id', 'restaurant_name', 'location', 'dish_category', 'dish_name', 'price', 'delivery_review_number'])\n",
    "\n",
    "for index, row in restaurant_info.iterrows():\n",
    "    restaurant_id = row['restaurant_id']\n",
    "    restaurant_link = row['restaurant_link']\n",
    "    page = requests.get(restaurant_link)\n",
    "    soup = BeautifulSoup(page.content, 'html.parser')\n",
    "    restaurant_name = soup.find('div', class_='_3XX_A').text\n",
    "    location = soup.find('div', class_='c2Q8W').text\n",
    "    for dish_category in soup.find_all('div', class_='mzR8v'):\n",
    "        for dish in dish_category.find_all('div', class_='_3Z5wa'):\n",
    "            dish_name = dish.find('div', class_='uZ7A7').text\n",
    "            price = dish.find('div', class_='JdYbT').text\n",
    "            delivery_review_number = dish.find('div', class_='jTy8b').text.split()[0]\n",
    "            restaurant_details = restaurant_details.append({'restaurant_id': restaurant_id, 'restaurant_name': restaurant_name, 'location': location, 'dish_category': dish_category.text, 'dish_name': dish_name, 'price': price, 'delivery_review_number': delivery_review_number}, ignore_index=True)"
   ]
  },
  {
   "cell_type": "code",
   "execution_count": 45,
   "id": "e6acc87a",
   "metadata": {},
   "outputs": [],
   "source": [
    "restaurant_info.to_csv('restaurant_info.csv', index=False)"
   ]
  },
  {
   "cell_type": "code",
   "execution_count": 46,
   "id": "f4d9cc04",
   "metadata": {},
   "outputs": [],
   "source": [
    "restaurant_details.to_csv('restaurant_details.csv', index=False)"
   ]
  },
  {
   "cell_type": "code",
   "execution_count": 1,
   "id": "b46b5e3d",
   "metadata": {},
   "outputs": [],
   "source": [
    "import requests\n",
    "from bs4 import BeautifulSoup\n",
    "import csv\n",
    "\n",
    "# function to extract key benefits from product page\n",
    "def extract_benefits(url):\n",
    "    response = requests.get(url)\n",
    "    soup = BeautifulSoup(response.content, 'html.parser')\n",
    "    benefits = []\n",
    "    for benefit in soup.find_all('div', class_='ProductDescription__content__1etk5'):\n",
    "        benefits.append(benefit.text.strip())\n",
    "    return benefits\n",
    "\n",
    "# create CSV file to store data\n",
    "csv_file = open('homeopathy_benefits.csv', 'w', encoding='utf-8')\n",
    "csv_writer = csv.writer(csv_file)\n",
    "csv_writer.writerow(['Name', 'Key Benefits'])\n",
    "\n",
    "# loop through first 20 pages of homeopathy category and extract key benefits\n",
    "for i in range(1, 21):\n",
    "    url = f'https://www.1mg.com/categories/homeopathy-57?page={i}'\n",
    "    response = requests.get(url)\n",
    "    soup = BeautifulSoup(response.content, 'html.parser')\n",
    "    for product in soup.find_all('div', class_='style__container___3wXkH'):\n",
    "        name = product.find('div', class_='style__pro-title___sbnBJ').text.strip()\n",
    "        product_url = 'https://www.1mg.com' + product.find('a')['href']\n",
    "        benefits = extract_benefits(product_url)\n",
    "        csv_writer.writerow([name, benefits])\n",
    "\n",
    "# close CSV file\n",
    "csv_file.close()\n"
   ]
  },
  {
   "cell_type": "code",
   "execution_count": null,
   "id": "cac3dc70",
   "metadata": {},
   "outputs": [],
   "source": []
  },
  {
   "cell_type": "code",
   "execution_count": null,
   "id": "8b5f11bd",
   "metadata": {},
   "outputs": [],
   "source": []
  }
 ],
 "metadata": {
  "kernelspec": {
   "display_name": "Python 3 (ipykernel)",
   "language": "python",
   "name": "python3"
  },
  "language_info": {
   "codemirror_mode": {
    "name": "ipython",
    "version": 3
   },
   "file_extension": ".py",
   "mimetype": "text/x-python",
   "name": "python",
   "nbconvert_exporter": "python",
   "pygments_lexer": "ipython3",
   "version": "3.9.13"
  }
 },
 "nbformat": 4,
 "nbformat_minor": 5
}
